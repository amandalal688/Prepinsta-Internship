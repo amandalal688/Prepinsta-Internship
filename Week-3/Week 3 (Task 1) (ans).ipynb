{
 "cells": [
  {
   "cell_type": "code",
   "execution_count": 1,
   "id": "9b0c3be7",
   "metadata": {},
   "outputs": [],
   "source": [
    "import pandas as pd\n",
    "import numpy as np"
   ]
  },
  {
   "cell_type": "code",
   "execution_count": 2,
   "id": "72353b52",
   "metadata": {},
   "outputs": [
    {
     "name": "stdout",
     "output_type": "stream",
     "text": [
      "    Index   Age      Salary  Rating       Location  Established Easy Apply\n",
      "0       0  44.0   $44k-$99k     5.4       India,In         1999       TRUE\n",
      "1       1  66.0   $55k-$66k     3.5    New York,Ny         2002       TRUE\n",
      "2       2   NaN   $77k-$89k    -1.0    New York,Ny           -1         -1\n",
      "3       3  64.0   $44k-$99k     4.4       India In         1988         -1\n",
      "4       4  25.0   $44k-$99k     6.4  Australia Aus         2002         -1\n",
      "5       5  44.0   $77k-$89k     1.4       India,In         1999       TRUE\n",
      "6       6  21.0   $44k-$99k     0.0    New York,Ny           -1         -1\n",
      "7       7  44.0   $44k-$99k    -1.0  Australia Aus           -1         -1\n",
      "8       8  35.0   $44k-$99k     5.4    New York,Ny           -1         -1\n",
      "9       9  22.0   $44k-$99k     7.7       India,In           -1       TRUE\n",
      "10     10  55.0   $10k-$49k     5.4       India,In         2008       TRUE\n",
      "11     11  44.0   $10k-$49k     6.7       India,In         2009         -1\n",
      "12     12   NaN   $44k-$99k     0.0       India,In         1999         -1\n",
      "13     13  25.0   $44k-$99k    -1.0  Australia Aus         2019       TRUE\n",
      "14     14  66.0   $44k-$99k     4.0  Australia Aus         2020       TRUE\n",
      "15     15  44.0  $88k-$101k     3.0  Australia Aus         1999         -1\n",
      "16     16  19.0   $19k-$40k     4.5       India,In         1984         -1\n",
      "17     17   NaN   $44k-$99k     5.3    New York,Ny         1943       TRUE\n",
      "18     18  35.0   $44k-$99k     6.7    New York,Ny         1954       TRUE\n",
      "19     19  32.0   $44k-$99k     3.3    New York,Ny         1955       TRUE\n",
      "20     20   NaN   $44k-$99k     5.7    New York,Ny         1944       TRUE\n",
      "21     21  35.0   $44k-$99k     5.0    New York,Ny         1946         -1\n",
      "22     22  19.0   $55k-$66k     7.8    New York,Ny         1988       TRUE\n",
      "23     23   NaN   $44k-$99k     2.4    New York,Ny         1999       TRUE\n",
      "24     24  13.0   $44k-$99k    -1.0    New York,Ny         1987         -1\n",
      "25     25  55.0   $44k-$99k     0.0  Australia Aus         1980       TRUE\n",
      "26     26   NaN   $55k-$66k     NaN       India,In         1934       TRUE\n",
      "27     27  52.0   $44k-$99k     5.4       India,In         1935         -1\n",
      "28     28   NaN   $39k-$88k     3.4  Australia Aus         1932         -1\n"
     ]
    }
   ],
   "source": [
    "data = pd.read_csv(\"Data-cleaning-for-beginners-using-pandas.csv\")\n",
    "print(data)"
   ]
  },
  {
   "cell_type": "code",
   "execution_count": 3,
   "id": "a88f2a56",
   "metadata": {},
   "outputs": [
    {
     "name": "stdout",
     "output_type": "stream",
     "text": [
      "    Index   Age      Salary  Rating       Location  Established Easy Apply\n",
      "0       0  44.0   $44k-$99k     5.4       India,In         1999       TRUE\n",
      "1       1  66.0   $55k-$66k     3.5    New York,Ny         2002       TRUE\n",
      "2       2   NaN   $77k-$89k    -1.0    New York,Ny           -1         -1\n",
      "3       3  64.0   $44k-$99k     4.4       India In         1988         -1\n",
      "4       4  25.0   $44k-$99k     6.4  Australia Aus         2002         -1\n",
      "5       5  44.0   $77k-$89k     1.4       India,In         1999       TRUE\n",
      "6       6  21.0   $44k-$99k     0.0    New York,Ny           -1         -1\n",
      "7       7  44.0   $44k-$99k    -1.0  Australia Aus           -1         -1\n",
      "8       8  35.0   $44k-$99k     5.4    New York,Ny           -1         -1\n",
      "9       9  22.0   $44k-$99k     7.7       India,In           -1       TRUE\n",
      "10     10  55.0   $10k-$49k     5.4       India,In         2008       TRUE\n",
      "11     11  44.0   $10k-$49k     6.7       India,In         2009         -1\n",
      "12     12   NaN   $44k-$99k     0.0       India,In         1999         -1\n",
      "13     13  25.0   $44k-$99k    -1.0  Australia Aus         2019       TRUE\n",
      "14     14  66.0   $44k-$99k     4.0  Australia Aus         2020       TRUE\n",
      "15     15  44.0  $88k-$101k     3.0  Australia Aus         1999         -1\n",
      "16     16  19.0   $19k-$40k     4.5       India,In         1984         -1\n",
      "17     17   NaN   $44k-$99k     5.3    New York,Ny         1943       TRUE\n",
      "18     18  35.0   $44k-$99k     6.7    New York,Ny         1954       TRUE\n",
      "19     19  32.0   $44k-$99k     3.3    New York,Ny         1955       TRUE\n",
      "20     20   NaN   $44k-$99k     5.7    New York,Ny         1944       TRUE\n",
      "21     21  35.0   $44k-$99k     5.0    New York,Ny         1946         -1\n",
      "22     22  19.0   $55k-$66k     7.8    New York,Ny         1988       TRUE\n",
      "23     23   NaN   $44k-$99k     2.4    New York,Ny         1999       TRUE\n",
      "24     24  13.0   $44k-$99k    -1.0    New York,Ny         1987         -1\n",
      "25     25  55.0   $44k-$99k     0.0  Australia Aus         1980       TRUE\n",
      "26     26   NaN   $55k-$66k     NaN       India,In         1934       TRUE\n",
      "27     27  52.0   $44k-$99k     5.4       India,In         1935         -1\n",
      "28     28   NaN   $39k-$88k     3.4  Australia Aus         1932         -1\n"
     ]
    }
   ],
   "source": [
    "df = data.copy()\n",
    "print(df)"
   ]
  },
  {
   "cell_type": "code",
   "execution_count": 4,
   "id": "a1adbe98",
   "metadata": {},
   "outputs": [
    {
     "data": {
      "text/html": [
       "<div>\n",
       "<style scoped>\n",
       "    .dataframe tbody tr th:only-of-type {\n",
       "        vertical-align: middle;\n",
       "    }\n",
       "\n",
       "    .dataframe tbody tr th {\n",
       "        vertical-align: top;\n",
       "    }\n",
       "\n",
       "    .dataframe thead th {\n",
       "        text-align: right;\n",
       "    }\n",
       "</style>\n",
       "<table border=\"1\" class=\"dataframe\">\n",
       "  <thead>\n",
       "    <tr style=\"text-align: right;\">\n",
       "      <th></th>\n",
       "      <th>Index</th>\n",
       "      <th>Age</th>\n",
       "      <th>Rating</th>\n",
       "      <th>Established</th>\n",
       "    </tr>\n",
       "  </thead>\n",
       "  <tbody>\n",
       "    <tr>\n",
       "      <th>count</th>\n",
       "      <td>29.000000</td>\n",
       "      <td>22.000000</td>\n",
       "      <td>28.000000</td>\n",
       "      <td>29.000000</td>\n",
       "    </tr>\n",
       "    <tr>\n",
       "      <th>mean</th>\n",
       "      <td>14.000000</td>\n",
       "      <td>39.045455</td>\n",
       "      <td>3.528571</td>\n",
       "      <td>1638.620690</td>\n",
       "    </tr>\n",
       "    <tr>\n",
       "      <th>std</th>\n",
       "      <td>8.514693</td>\n",
       "      <td>16.134781</td>\n",
       "      <td>2.825133</td>\n",
       "      <td>762.079599</td>\n",
       "    </tr>\n",
       "    <tr>\n",
       "      <th>min</th>\n",
       "      <td>0.000000</td>\n",
       "      <td>13.000000</td>\n",
       "      <td>-1.000000</td>\n",
       "      <td>-1.000000</td>\n",
       "    </tr>\n",
       "    <tr>\n",
       "      <th>25%</th>\n",
       "      <td>7.000000</td>\n",
       "      <td>25.000000</td>\n",
       "      <td>1.050000</td>\n",
       "      <td>1935.000000</td>\n",
       "    </tr>\n",
       "    <tr>\n",
       "      <th>50%</th>\n",
       "      <td>14.000000</td>\n",
       "      <td>39.500000</td>\n",
       "      <td>4.200000</td>\n",
       "      <td>1984.000000</td>\n",
       "    </tr>\n",
       "    <tr>\n",
       "      <th>75%</th>\n",
       "      <td>21.000000</td>\n",
       "      <td>50.000000</td>\n",
       "      <td>5.400000</td>\n",
       "      <td>1999.000000</td>\n",
       "    </tr>\n",
       "    <tr>\n",
       "      <th>max</th>\n",
       "      <td>28.000000</td>\n",
       "      <td>66.000000</td>\n",
       "      <td>7.800000</td>\n",
       "      <td>2020.000000</td>\n",
       "    </tr>\n",
       "  </tbody>\n",
       "</table>\n",
       "</div>"
      ],
      "text/plain": [
       "           Index        Age     Rating  Established\n",
       "count  29.000000  22.000000  28.000000    29.000000\n",
       "mean   14.000000  39.045455   3.528571  1638.620690\n",
       "std     8.514693  16.134781   2.825133   762.079599\n",
       "min     0.000000  13.000000  -1.000000    -1.000000\n",
       "25%     7.000000  25.000000   1.050000  1935.000000\n",
       "50%    14.000000  39.500000   4.200000  1984.000000\n",
       "75%    21.000000  50.000000   5.400000  1999.000000\n",
       "max    28.000000  66.000000   7.800000  2020.000000"
      ]
     },
     "execution_count": 4,
     "metadata": {},
     "output_type": "execute_result"
    }
   ],
   "source": [
    "df.describe()"
   ]
  },
  {
   "cell_type": "markdown",
   "id": "588af5bc",
   "metadata": {},
   "source": [
    " "
   ]
  },
  {
   "cell_type": "markdown",
   "id": "1dcb8867",
   "metadata": {},
   "source": [
    "# 1. Missing Values:-"
   ]
  },
  {
   "cell_type": "code",
   "execution_count": 7,
   "id": "23700559",
   "metadata": {},
   "outputs": [
    {
     "data": {
      "text/plain": [
       "Index          0\n",
       "Age            7\n",
       "Salary         0\n",
       "Rating         1\n",
       "Location       0\n",
       "Established    0\n",
       "Easy Apply     0\n",
       "dtype: int64"
      ]
     },
     "execution_count": 7,
     "metadata": {},
     "output_type": "execute_result"
    }
   ],
   "source": [
    "df.isnull().sum()"
   ]
  },
  {
   "cell_type": "code",
   "execution_count": 8,
   "id": "b227d7f9",
   "metadata": {},
   "outputs": [
    {
     "name": "stdout",
     "output_type": "stream",
     "text": [
      "    Index  Age      Salary    Rating       Location  Established Easy Apply\n",
      "0       0   44   $44k-$99k  5.400000       India,In         1999       TRUE\n",
      "1       1   66   $55k-$66k  3.500000    New York,Ny         2002       TRUE\n",
      "2       2   44   $77k-$89k -1.000000    New York,Ny           -1         -1\n",
      "3       3   64   $44k-$99k  4.400000       India In         1988         -1\n",
      "4       4   25   $44k-$99k  6.400000  Australia Aus         2002         -1\n",
      "5       5   44   $77k-$89k  1.400000       India,In         1999       TRUE\n",
      "6       6   21   $44k-$99k  0.000000    New York,Ny           -1         -1\n",
      "7       7   44   $44k-$99k -1.000000  Australia Aus           -1         -1\n",
      "8       8   35   $44k-$99k  5.400000    New York,Ny           -1         -1\n",
      "9       9   22   $44k-$99k  7.700000       India,In           -1       TRUE\n",
      "10     10   55   $10k-$49k  5.400000       India,In         2008       TRUE\n",
      "11     11   44   $10k-$49k  6.700000       India,In         2009         -1\n",
      "12     12   44   $44k-$99k  0.000000       India,In         1999         -1\n",
      "13     13   25   $44k-$99k -1.000000  Australia Aus         2019       TRUE\n",
      "14     14   66   $44k-$99k  4.000000  Australia Aus         2020       TRUE\n",
      "15     15   44  $88k-$101k  3.000000  Australia Aus         1999         -1\n",
      "16     16   19   $19k-$40k  4.500000       India,In         1984         -1\n",
      "17     17   44   $44k-$99k  5.300000    New York,Ny         1943       TRUE\n",
      "18     18   35   $44k-$99k  6.700000    New York,Ny         1954       TRUE\n",
      "19     19   32   $44k-$99k  3.300000    New York,Ny         1955       TRUE\n",
      "20     20   44   $44k-$99k  5.700000    New York,Ny         1944       TRUE\n",
      "21     21   35   $44k-$99k  5.000000    New York,Ny         1946         -1\n",
      "22     22   19   $55k-$66k  7.800000    New York,Ny         1988       TRUE\n",
      "23     23   44   $44k-$99k  2.400000    New York,Ny         1999       TRUE\n",
      "24     24   13   $44k-$99k -1.000000    New York,Ny         1987         -1\n",
      "25     25   55   $44k-$99k  0.000000  Australia Aus         1980       TRUE\n",
      "26     26   44   $55k-$66k  3.528571       India,In         1934       TRUE\n",
      "27     27   52   $44k-$99k  5.400000       India,In         1935         -1\n",
      "28     28   44   $39k-$88k  3.400000  Australia Aus         1932         -1\n"
     ]
    }
   ],
   "source": [
    "# filling missing values of Age column\n",
    "aged = df['Age'].mode()[0]\n",
    "df['Age'].fillna(aged,inplace = True)\n",
    "df['Age'] = df['Age'].astype(int)\n",
    "\n",
    "# filling missing values of Rating Column\n",
    "df.Rating.fillna(df.Rating.mean(),inplace = True)\n",
    "print(df)"
   ]
  },
  {
   "cell_type": "markdown",
   "id": "48ed35df",
   "metadata": {},
   "source": [
    " "
   ]
  },
  {
   "cell_type": "markdown",
   "id": "0d44adbc",
   "metadata": {},
   "source": [
    "# 2. Data Types:-"
   ]
  },
  {
   "cell_type": "code",
   "execution_count": 13,
   "id": "3913e5fe",
   "metadata": {},
   "outputs": [
    {
     "data": {
      "text/plain": [
       "Index            int64\n",
       "Age              int32\n",
       "Salary          object\n",
       "Rating         float64\n",
       "Location        object\n",
       "Established      int64\n",
       "Easy Apply      object\n",
       "dtype: object"
      ]
     },
     "execution_count": 13,
     "metadata": {},
     "output_type": "execute_result"
    }
   ],
   "source": [
    "df.dtypes"
   ]
  },
  {
   "cell_type": "markdown",
   "id": "d7aeebff",
   "metadata": {},
   "source": [
    " "
   ]
  },
  {
   "cell_type": "markdown",
   "id": "e5612033",
   "metadata": {},
   "source": [
    "# 3. Outliers:-"
   ]
  },
  {
   "cell_type": "code",
   "execution_count": 15,
   "id": "8c5da88a",
   "metadata": {
    "scrolled": true
   },
   "outputs": [
    {
     "name": "stdout",
     "output_type": "stream",
     "text": [
      "Potential Outliers in Age: \n",
      "    Index  Age     Salary  Rating       Location  Established Easy Apply\n",
      "1       1   66  $55k-$66k     3.5    New York,Ny         2002       TRUE\n",
      "3       3   64  $44k-$99k     4.4       India In         1988         -1\n",
      "14     14   66  $44k-$99k     4.0  Australia Aus         2020       TRUE\n",
      "24     24   13  $44k-$99k    -1.0    New York,Ny         1987         -1\n",
      "Potential Outliers in Rating: \n",
      "Empty DataFrame\n",
      "Columns: [Index, Age, Salary, Rating, Location, Established, Easy Apply]\n",
      "Index: []\n"
     ]
    }
   ],
   "source": [
    "Outlier = ['Age','Rating']\n",
    "for i in Outlier:\n",
    "    Q1 = df[i].quantile(0.25)\n",
    "    Q3 = df[i].quantile(0.75)\n",
    "    IQR = Q3 - Q1\n",
    "    \n",
    "    lower_bound = Q1 - 1.5 * IQR\n",
    "    upper_bound = Q3 + 1.5 * IQR\n",
    "    \n",
    "    outliers = df[(df[i] < lower_bound) | (df[i] > upper_bound)]\n",
    "    \n",
    "    print(f\"Potential Outliers in {i}: \")\n",
    "    print(outliers)"
   ]
  },
  {
   "cell_type": "markdown",
   "id": "94bbda52",
   "metadata": {},
   "source": [
    " "
   ]
  },
  {
   "cell_type": "markdown",
   "id": "7cbe791b",
   "metadata": {},
   "source": [
    "# 4. Salary Formatting"
   ]
  },
  {
   "cell_type": "code",
   "execution_count": 18,
   "id": "56da8c99",
   "metadata": {},
   "outputs": [
    {
     "data": {
      "text/plain": [
       "0      $44k-$99k\n",
       "1      $55k-$66k\n",
       "2      $77k-$89k\n",
       "3      $44k-$99k\n",
       "4      $44k-$99k\n",
       "5      $77k-$89k\n",
       "6      $44k-$99k\n",
       "7      $44k-$99k\n",
       "8      $44k-$99k\n",
       "9      $44k-$99k\n",
       "10     $10k-$49k\n",
       "11     $10k-$49k\n",
       "12     $44k-$99k\n",
       "13     $44k-$99k\n",
       "14     $44k-$99k\n",
       "15    $88k-$101k\n",
       "16     $19k-$40k\n",
       "17     $44k-$99k\n",
       "18     $44k-$99k\n",
       "19     $44k-$99k\n",
       "20     $44k-$99k\n",
       "21     $44k-$99k\n",
       "22     $55k-$66k\n",
       "23     $44k-$99k\n",
       "24     $44k-$99k\n",
       "25     $44k-$99k\n",
       "26     $55k-$66k\n",
       "27     $44k-$99k\n",
       "28     $39k-$88k\n",
       "Name: Salary, dtype: object"
      ]
     },
     "execution_count": 18,
     "metadata": {},
     "output_type": "execute_result"
    }
   ],
   "source": [
    "df.Salary"
   ]
  },
  {
   "cell_type": "code",
   "execution_count": 19,
   "id": "bba30fc8",
   "metadata": {},
   "outputs": [
    {
     "name": "stdout",
     "output_type": "stream",
     "text": [
      "    Index  Age      Salary    Rating       Location  Established Easy Apply\n",
      "0       0   44    44k- 99k  5.400000       India,In         1999       TRUE\n",
      "1       1   66    55k- 66k  3.500000    New York,Ny         2002       TRUE\n",
      "2       2   44    77k- 89k -1.000000    New York,Ny           -1         -1\n",
      "3       3   64    44k- 99k  4.400000       India In         1988         -1\n",
      "4       4   25    44k- 99k  6.400000  Australia Aus         2002         -1\n",
      "5       5   44    77k- 89k  1.400000       India,In         1999       TRUE\n",
      "6       6   21    44k- 99k  0.000000    New York,Ny           -1         -1\n",
      "7       7   44    44k- 99k -1.000000  Australia Aus           -1         -1\n",
      "8       8   35    44k- 99k  5.400000    New York,Ny           -1         -1\n",
      "9       9   22    44k- 99k  7.700000       India,In           -1       TRUE\n",
      "10     10   55    10k- 49k  5.400000       India,In         2008       TRUE\n",
      "11     11   44    10k- 49k  6.700000       India,In         2009         -1\n",
      "12     12   44    44k- 99k  0.000000       India,In         1999         -1\n",
      "13     13   25    44k- 99k -1.000000  Australia Aus         2019       TRUE\n",
      "14     14   66    44k- 99k  4.000000  Australia Aus         2020       TRUE\n",
      "15     15   44   88k- 101k  3.000000  Australia Aus         1999         -1\n",
      "16     16   19    19k- 40k  4.500000       India,In         1984         -1\n",
      "17     17   44    44k- 99k  5.300000    New York,Ny         1943       TRUE\n",
      "18     18   35    44k- 99k  6.700000    New York,Ny         1954       TRUE\n",
      "19     19   32    44k- 99k  3.300000    New York,Ny         1955       TRUE\n",
      "20     20   44    44k- 99k  5.700000    New York,Ny         1944       TRUE\n",
      "21     21   35    44k- 99k  5.000000    New York,Ny         1946         -1\n",
      "22     22   19    55k- 66k  7.800000    New York,Ny         1988       TRUE\n",
      "23     23   44    44k- 99k  2.400000    New York,Ny         1999       TRUE\n",
      "24     24   13    44k- 99k -1.000000    New York,Ny         1987         -1\n",
      "25     25   55    44k- 99k  0.000000  Australia Aus         1980       TRUE\n",
      "26     26   44    55k- 66k  3.528571       India,In         1934       TRUE\n",
      "27     27   52    44k- 99k  5.400000       India,In         1935         -1\n",
      "28     28   44    39k- 88k  3.400000  Australia Aus         1932         -1\n"
     ]
    },
    {
     "name": "stderr",
     "output_type": "stream",
     "text": [
      "C:\\Users\\Aman\\AppData\\Local\\Temp\\ipykernel_2184\\3409052919.py:1: FutureWarning: The default value of regex will change from True to False in a future version. In addition, single character regular expressions will *not* be treated as literal strings when regex=True.\n",
      "  df['Salary'] = df.Salary.str.replace(\"$\",\" \")\n"
     ]
    }
   ],
   "source": [
    "df['Salary'] = df.Salary.str.replace(\"$\",\" \")\n",
    "df['Salary'] = df.Salary\n",
    "print(df)"
   ]
  },
  {
   "cell_type": "code",
   "execution_count": 20,
   "id": "b5e3adb2",
   "metadata": {},
   "outputs": [
    {
     "name": "stdout",
     "output_type": "stream",
     "text": [
      "    Index  Age          Salary    Rating       Location  Established  \\\n",
      "0       0   44    44000- 99000  5.400000       India,In         1999   \n",
      "1       1   66    55000- 66000  3.500000    New York,Ny         2002   \n",
      "2       2   44    77000- 89000 -1.000000    New York,Ny           -1   \n",
      "3       3   64    44000- 99000  4.400000       India In         1988   \n",
      "4       4   25    44000- 99000  6.400000  Australia Aus         2002   \n",
      "5       5   44    77000- 89000  1.400000       India,In         1999   \n",
      "6       6   21    44000- 99000  0.000000    New York,Ny           -1   \n",
      "7       7   44    44000- 99000 -1.000000  Australia Aus           -1   \n",
      "8       8   35    44000- 99000  5.400000    New York,Ny           -1   \n",
      "9       9   22    44000- 99000  7.700000       India,In           -1   \n",
      "10     10   55    10000- 49000  5.400000       India,In         2008   \n",
      "11     11   44    10000- 49000  6.700000       India,In         2009   \n",
      "12     12   44    44000- 99000  0.000000       India,In         1999   \n",
      "13     13   25    44000- 99000 -1.000000  Australia Aus         2019   \n",
      "14     14   66    44000- 99000  4.000000  Australia Aus         2020   \n",
      "15     15   44   88000- 101000  3.000000  Australia Aus         1999   \n",
      "16     16   19    19000- 40000  4.500000       India,In         1984   \n",
      "17     17   44    44000- 99000  5.300000    New York,Ny         1943   \n",
      "18     18   35    44000- 99000  6.700000    New York,Ny         1954   \n",
      "19     19   32    44000- 99000  3.300000    New York,Ny         1955   \n",
      "20     20   44    44000- 99000  5.700000    New York,Ny         1944   \n",
      "21     21   35    44000- 99000  5.000000    New York,Ny         1946   \n",
      "22     22   19    55000- 66000  7.800000    New York,Ny         1988   \n",
      "23     23   44    44000- 99000  2.400000    New York,Ny         1999   \n",
      "24     24   13    44000- 99000 -1.000000    New York,Ny         1987   \n",
      "25     25   55    44000- 99000  0.000000  Australia Aus         1980   \n",
      "26     26   44    55000- 66000  3.528571       India,In         1934   \n",
      "27     27   52    44000- 99000  5.400000       India,In         1935   \n",
      "28     28   44    39000- 88000  3.400000  Australia Aus         1932   \n",
      "\n",
      "   Easy Apply  \n",
      "0        TRUE  \n",
      "1        TRUE  \n",
      "2          -1  \n",
      "3          -1  \n",
      "4          -1  \n",
      "5        TRUE  \n",
      "6          -1  \n",
      "7          -1  \n",
      "8          -1  \n",
      "9        TRUE  \n",
      "10       TRUE  \n",
      "11         -1  \n",
      "12         -1  \n",
      "13       TRUE  \n",
      "14       TRUE  \n",
      "15         -1  \n",
      "16         -1  \n",
      "17       TRUE  \n",
      "18       TRUE  \n",
      "19       TRUE  \n",
      "20       TRUE  \n",
      "21         -1  \n",
      "22       TRUE  \n",
      "23       TRUE  \n",
      "24         -1  \n",
      "25       TRUE  \n",
      "26       TRUE  \n",
      "27         -1  \n",
      "28         -1  \n"
     ]
    }
   ],
   "source": [
    "df['Salary'] = df.Salary.str.replace(\"k\",\"000\")\n",
    "df['Salary'] = df.Salary\n",
    "print(df)"
   ]
  },
  {
   "cell_type": "code",
   "execution_count": 21,
   "id": "3123d664",
   "metadata": {},
   "outputs": [
    {
     "name": "stdout",
     "output_type": "stream",
     "text": [
      "    Index  Age          Salary    Rating       Location  Established Apply\n",
      "0       0   44    44000- 99000  5.400000       India,In         1999  TRUE\n",
      "1       1   66    55000- 66000  3.500000    New York,Ny         2002  TRUE\n",
      "2       2   44    77000- 89000 -1.000000    New York,Ny           -1    -1\n",
      "3       3   64    44000- 99000  4.400000       India In         1988    -1\n",
      "4       4   25    44000- 99000  6.400000  Australia Aus         2002    -1\n",
      "5       5   44    77000- 89000  1.400000       India,In         1999  TRUE\n",
      "6       6   21    44000- 99000  0.000000    New York,Ny           -1    -1\n",
      "7       7   44    44000- 99000 -1.000000  Australia Aus           -1    -1\n",
      "8       8   35    44000- 99000  5.400000    New York,Ny           -1    -1\n",
      "9       9   22    44000- 99000  7.700000       India,In           -1  TRUE\n",
      "10     10   55    10000- 49000  5.400000       India,In         2008  TRUE\n",
      "11     11   44    10000- 49000  6.700000       India,In         2009    -1\n",
      "12     12   44    44000- 99000  0.000000       India,In         1999    -1\n",
      "13     13   25    44000- 99000 -1.000000  Australia Aus         2019  TRUE\n",
      "14     14   66    44000- 99000  4.000000  Australia Aus         2020  TRUE\n",
      "15     15   44   88000- 101000  3.000000  Australia Aus         1999    -1\n",
      "16     16   19    19000- 40000  4.500000       India,In         1984    -1\n",
      "17     17   44    44000- 99000  5.300000    New York,Ny         1943  TRUE\n",
      "18     18   35    44000- 99000  6.700000    New York,Ny         1954  TRUE\n",
      "19     19   32    44000- 99000  3.300000    New York,Ny         1955  TRUE\n",
      "20     20   44    44000- 99000  5.700000    New York,Ny         1944  TRUE\n",
      "21     21   35    44000- 99000  5.000000    New York,Ny         1946    -1\n",
      "22     22   19    55000- 66000  7.800000    New York,Ny         1988  TRUE\n",
      "23     23   44    44000- 99000  2.400000    New York,Ny         1999  TRUE\n",
      "24     24   13    44000- 99000 -1.000000    New York,Ny         1987    -1\n",
      "25     25   55    44000- 99000  0.000000  Australia Aus         1980  TRUE\n",
      "26     26   44    55000- 66000  3.528571       India,In         1934  TRUE\n",
      "27     27   52    44000- 99000  5.400000       India,In         1935    -1\n",
      "28     28   44    39000- 88000  3.400000  Australia Aus         1932    -1\n"
     ]
    }
   ],
   "source": [
    "df.rename(columns={\"Easy Apply\":\"Apply\"},inplace=True)\n",
    "print(df)"
   ]
  },
  {
   "cell_type": "code",
   "execution_count": 22,
   "id": "00b674f8",
   "metadata": {},
   "outputs": [
    {
     "name": "stdout",
     "output_type": "stream",
     "text": [
      "    Index  Age        Salary    Rating       Location  Established Apply\n",
      "0       0   44   44000-99000  5.400000       India,In         1999  TRUE\n",
      "1       1   66   55000-66000  3.500000    New York,Ny         2002  TRUE\n",
      "2       2   44   77000-89000 -1.000000    New York,Ny           -1    -1\n",
      "3       3   64   44000-99000  4.400000       India In         1988    -1\n",
      "4       4   25   44000-99000  6.400000  Australia Aus         2002    -1\n",
      "5       5   44   77000-89000  1.400000       India,In         1999  TRUE\n",
      "6       6   21   44000-99000  0.000000    New York,Ny           -1    -1\n",
      "7       7   44   44000-99000 -1.000000  Australia Aus           -1    -1\n",
      "8       8   35   44000-99000  5.400000    New York,Ny           -1    -1\n",
      "9       9   22   44000-99000  7.700000       India,In           -1  TRUE\n",
      "10     10   55   10000-49000  5.400000       India,In         2008  TRUE\n",
      "11     11   44   10000-49000  6.700000       India,In         2009    -1\n",
      "12     12   44   44000-99000  0.000000       India,In         1999    -1\n",
      "13     13   25   44000-99000 -1.000000  Australia Aus         2019  TRUE\n",
      "14     14   66   44000-99000  4.000000  Australia Aus         2020  TRUE\n",
      "15     15   44  88000-101000  3.000000  Australia Aus         1999    -1\n",
      "16     16   19   19000-40000  4.500000       India,In         1984    -1\n",
      "17     17   44   44000-99000  5.300000    New York,Ny         1943  TRUE\n",
      "18     18   35   44000-99000  6.700000    New York,Ny         1954  TRUE\n",
      "19     19   32   44000-99000  3.300000    New York,Ny         1955  TRUE\n",
      "20     20   44   44000-99000  5.700000    New York,Ny         1944  TRUE\n",
      "21     21   35   44000-99000  5.000000    New York,Ny         1946    -1\n",
      "22     22   19   55000-66000  7.800000    New York,Ny         1988  TRUE\n",
      "23     23   44   44000-99000  2.400000    New York,Ny         1999  TRUE\n",
      "24     24   13   44000-99000 -1.000000    New York,Ny         1987    -1\n",
      "25     25   55   44000-99000  0.000000  Australia Aus         1980  TRUE\n",
      "26     26   44   55000-66000  3.528571       India,In         1934  TRUE\n",
      "27     27   52   44000-99000  5.400000       India,In         1935    -1\n",
      "28     28   44   39000-88000  3.400000  Australia Aus         1932    -1\n"
     ]
    }
   ],
   "source": [
    "df['Salary'] = df.Salary.str.replace(\" \",\"\")\n",
    "df['Salary'] = df.Salary\n",
    "print(df)"
   ]
  },
  {
   "cell_type": "markdown",
   "id": "fb0cd19a",
   "metadata": {},
   "source": [
    " "
   ]
  },
  {
   "cell_type": "markdown",
   "id": "80bfc47c",
   "metadata": {},
   "source": [
    "# 5. Location Standardization:-"
   ]
  },
  {
   "cell_type": "code",
   "execution_count": null,
   "id": "c7c54680",
   "metadata": {},
   "outputs": [],
   "source": []
  },
  {
   "cell_type": "code",
   "execution_count": 24,
   "id": "09fb3088",
   "metadata": {},
   "outputs": [
    {
     "name": "stdout",
     "output_type": "stream",
     "text": [
      "    Index  Age        Salary    Rating       Location  Established Apply\n",
      "0       0   44   44000-99000  5.400000       India,In         1999  TRUE\n",
      "1       1   66   55000-66000  3.500000    New York,Ny         2002  TRUE\n",
      "2       2   44   77000-89000 -1.000000    New York,Ny           -1    -1\n",
      "3       3   64   44000-99000  4.400000       India In         1988    -1\n",
      "4       4   25   44000-99000  6.400000  Australia,Aus         2002    -1\n",
      "5       5   44   77000-89000  1.400000       India,In         1999  TRUE\n",
      "6       6   21   44000-99000  0.000000    New York,Ny           -1    -1\n",
      "7       7   44   44000-99000 -1.000000  Australia,Aus           -1    -1\n",
      "8       8   35   44000-99000  5.400000    New York,Ny           -1    -1\n",
      "9       9   22   44000-99000  7.700000       India,In           -1  TRUE\n",
      "10     10   55   10000-49000  5.400000       India,In         2008  TRUE\n",
      "11     11   44   10000-49000  6.700000       India,In         2009    -1\n",
      "12     12   44   44000-99000  0.000000       India,In         1999    -1\n",
      "13     13   25   44000-99000 -1.000000  Australia,Aus         2019  TRUE\n",
      "14     14   66   44000-99000  4.000000  Australia,Aus         2020  TRUE\n",
      "15     15   44  88000-101000  3.000000  Australia,Aus         1999    -1\n",
      "16     16   19   19000-40000  4.500000       India,In         1984    -1\n",
      "17     17   44   44000-99000  5.300000    New York,Ny         1943  TRUE\n",
      "18     18   35   44000-99000  6.700000    New York,Ny         1954  TRUE\n",
      "19     19   32   44000-99000  3.300000    New York,Ny         1955  TRUE\n",
      "20     20   44   44000-99000  5.700000    New York,Ny         1944  TRUE\n",
      "21     21   35   44000-99000  5.000000    New York,Ny         1946    -1\n",
      "22     22   19   55000-66000  7.800000    New York,Ny         1988  TRUE\n",
      "23     23   44   44000-99000  2.400000    New York,Ny         1999  TRUE\n",
      "24     24   13   44000-99000 -1.000000    New York,Ny         1987    -1\n",
      "25     25   55   44000-99000  0.000000  Australia,Aus         1980  TRUE\n",
      "26     26   44   55000-66000  3.528571       India,In         1934  TRUE\n",
      "27     27   52   44000-99000  5.400000       India,In         1935    -1\n",
      "28     28   44   39000-88000  3.400000  Australia,Aus         1932    -1\n"
     ]
    }
   ],
   "source": [
    "df['Location'] = df.Location.replace('Australia Aus','Australia,Aus')\n",
    "print(df)"
   ]
  },
  {
   "cell_type": "markdown",
   "id": "9640a8cb",
   "metadata": {},
   "source": [
    " "
   ]
  },
  {
   "cell_type": "markdown",
   "id": "6bbd5662",
   "metadata": {},
   "source": [
    "# 6. Established Column:-"
   ]
  },
  {
   "cell_type": "code",
   "execution_count": 26,
   "id": "10bfc981",
   "metadata": {},
   "outputs": [
    {
     "name": "stdout",
     "output_type": "stream",
     "text": [
      "    Index  Age        Salary    Rating       Location  Established Apply\n",
      "0       0   44   44000-99000  5.400000       India,In       1999.0  TRUE\n",
      "1       1   66   55000-66000  3.500000    New York,Ny       2002.0  TRUE\n",
      "2       2   44   77000-89000 -1.000000    New York,Ny          NaN    -1\n",
      "3       3   64   44000-99000  4.400000       India In       1988.0    -1\n",
      "4       4   25   44000-99000  6.400000  Australia,Aus       2002.0    -1\n",
      "5       5   44   77000-89000  1.400000       India,In       1999.0  TRUE\n",
      "6       6   21   44000-99000  0.000000    New York,Ny          NaN    -1\n",
      "7       7   44   44000-99000 -1.000000  Australia,Aus          NaN    -1\n",
      "8       8   35   44000-99000  5.400000    New York,Ny          NaN    -1\n",
      "9       9   22   44000-99000  7.700000       India,In          NaN  TRUE\n",
      "10     10   55   10000-49000  5.400000       India,In       2008.0  TRUE\n",
      "11     11   44   10000-49000  6.700000       India,In       2009.0    -1\n",
      "12     12   44   44000-99000  0.000000       India,In       1999.0    -1\n",
      "13     13   25   44000-99000 -1.000000  Australia,Aus       2019.0  TRUE\n",
      "14     14   66   44000-99000  4.000000  Australia,Aus       2020.0  TRUE\n",
      "15     15   44  88000-101000  3.000000  Australia,Aus       1999.0    -1\n",
      "16     16   19   19000-40000  4.500000       India,In       1984.0    -1\n",
      "17     17   44   44000-99000  5.300000    New York,Ny       1943.0  TRUE\n",
      "18     18   35   44000-99000  6.700000    New York,Ny       1954.0  TRUE\n",
      "19     19   32   44000-99000  3.300000    New York,Ny       1955.0  TRUE\n",
      "20     20   44   44000-99000  5.700000    New York,Ny       1944.0  TRUE\n",
      "21     21   35   44000-99000  5.000000    New York,Ny       1946.0    -1\n",
      "22     22   19   55000-66000  7.800000    New York,Ny       1988.0  TRUE\n",
      "23     23   44   44000-99000  2.400000    New York,Ny       1999.0  TRUE\n",
      "24     24   13   44000-99000 -1.000000    New York,Ny       1987.0    -1\n",
      "25     25   55   44000-99000  0.000000  Australia,Aus       1980.0  TRUE\n",
      "26     26   44   55000-66000  3.528571       India,In       1934.0  TRUE\n",
      "27     27   52   44000-99000  5.400000       India,In       1935.0    -1\n",
      "28     28   44   39000-88000  3.400000  Australia,Aus       1932.0    -1\n"
     ]
    }
   ],
   "source": [
    "df['Established'] = df['Established'].replace(-1,np.nan)\n",
    "print(df)"
   ]
  },
  {
   "cell_type": "code",
   "execution_count": 33,
   "id": "8e8ce545",
   "metadata": {},
   "outputs": [
    {
     "name": "stdout",
     "output_type": "stream",
     "text": [
      "    Index  Age        Salary    Rating       Location  Established Apply\n",
      "0       0   44   44000-99000  5.400000       India,In         1999  TRUE\n",
      "1       1   66   55000-66000  3.500000    New York,Ny         2002  TRUE\n",
      "2       2   44   77000-89000 -1.000000    New York,Ny         1999    -1\n",
      "3       3   64   44000-99000  4.400000       India In         1988    -1\n",
      "4       4   25   44000-99000  6.400000  Australia,Aus         2002    -1\n",
      "5       5   44   77000-89000  1.400000       India,In         1999  TRUE\n",
      "6       6   21   44000-99000  0.000000    New York,Ny         1999    -1\n",
      "7       7   44   44000-99000 -1.000000  Australia,Aus         1999    -1\n",
      "8       8   35   44000-99000  5.400000    New York,Ny         1999    -1\n",
      "9       9   22   44000-99000  7.700000       India,In         1999  TRUE\n",
      "10     10   55   10000-49000  5.400000       India,In         2008  TRUE\n",
      "11     11   44   10000-49000  6.700000       India,In         2009    -1\n",
      "12     12   44   44000-99000  0.000000       India,In         1999    -1\n",
      "13     13   25   44000-99000 -1.000000  Australia,Aus         2019  TRUE\n",
      "14     14   66   44000-99000  4.000000  Australia,Aus         2020  TRUE\n",
      "15     15   44  88000-101000  3.000000  Australia,Aus         1999    -1\n",
      "16     16   19   19000-40000  4.500000       India,In         1984    -1\n",
      "17     17   44   44000-99000  5.300000    New York,Ny         1943  TRUE\n",
      "18     18   35   44000-99000  6.700000    New York,Ny         1954  TRUE\n",
      "19     19   32   44000-99000  3.300000    New York,Ny         1955  TRUE\n",
      "20     20   44   44000-99000  5.700000    New York,Ny         1944  TRUE\n",
      "21     21   35   44000-99000  5.000000    New York,Ny         1946    -1\n",
      "22     22   19   55000-66000  7.800000    New York,Ny         1988  TRUE\n",
      "23     23   44   44000-99000  2.400000    New York,Ny         1999  TRUE\n",
      "24     24   13   44000-99000 -1.000000    New York,Ny         1987    -1\n",
      "25     25   55   44000-99000  0.000000  Australia,Aus         1980  TRUE\n",
      "26     26   44   55000-66000  3.528571       India,In         1934  TRUE\n",
      "27     27   52   44000-99000  5.400000       India,In         1935    -1\n",
      "28     28   44   39000-88000  3.400000  Australia,Aus         1932    -1\n"
     ]
    }
   ],
   "source": [
    "df['Established'] = df['Established'].replace(np.nan,df['Established'].mode()[0])\n",
    "df['Established'] = df['Established'].astype(int)\n",
    "print(df)"
   ]
  },
  {
   "cell_type": "markdown",
   "id": "715a92dc",
   "metadata": {},
   "source": [
    " "
   ]
  },
  {
   "cell_type": "markdown",
   "id": "3efd3bac",
   "metadata": {},
   "source": [
    "# 7. Easy Apply / Apply Indicator:-"
   ]
  },
  {
   "cell_type": "code",
   "execution_count": 38,
   "id": "f9487b60",
   "metadata": {},
   "outputs": [
    {
     "name": "stdout",
     "output_type": "stream",
     "text": [
      "    Index  Age        Salary    Rating       Location  Established  Apply\n",
      "0       0   44   44000-99000  5.400000       India,In         1999   TRUE\n",
      "1       1   66   55000-66000  3.500000    New York,Ny         2002   TRUE\n",
      "2       2   44   77000-89000 -1.000000    New York,Ny         1999  FALSE\n",
      "3       3   64   44000-99000  4.400000       India In         1988  FALSE\n",
      "4       4   25   44000-99000  6.400000  Australia,Aus         2002  FALSE\n",
      "5       5   44   77000-89000  1.400000       India,In         1999   TRUE\n",
      "6       6   21   44000-99000  0.000000    New York,Ny         1999  FALSE\n",
      "7       7   44   44000-99000 -1.000000  Australia,Aus         1999  FALSE\n",
      "8       8   35   44000-99000  5.400000    New York,Ny         1999  FALSE\n",
      "9       9   22   44000-99000  7.700000       India,In         1999   TRUE\n",
      "10     10   55   10000-49000  5.400000       India,In         2008   TRUE\n",
      "11     11   44   10000-49000  6.700000       India,In         2009  FALSE\n",
      "12     12   44   44000-99000  0.000000       India,In         1999  FALSE\n",
      "13     13   25   44000-99000 -1.000000  Australia,Aus         2019   TRUE\n",
      "14     14   66   44000-99000  4.000000  Australia,Aus         2020   TRUE\n",
      "15     15   44  88000-101000  3.000000  Australia,Aus         1999  FALSE\n",
      "16     16   19   19000-40000  4.500000       India,In         1984  FALSE\n",
      "17     17   44   44000-99000  5.300000    New York,Ny         1943   TRUE\n",
      "18     18   35   44000-99000  6.700000    New York,Ny         1954   TRUE\n",
      "19     19   32   44000-99000  3.300000    New York,Ny         1955   TRUE\n",
      "20     20   44   44000-99000  5.700000    New York,Ny         1944   TRUE\n",
      "21     21   35   44000-99000  5.000000    New York,Ny         1946  FALSE\n",
      "22     22   19   55000-66000  7.800000    New York,Ny         1988   TRUE\n",
      "23     23   44   44000-99000  2.400000    New York,Ny         1999   TRUE\n",
      "24     24   13   44000-99000 -1.000000    New York,Ny         1987  FALSE\n",
      "25     25   55   44000-99000  0.000000  Australia,Aus         1980   TRUE\n",
      "26     26   44   55000-66000  3.528571       India,In         1934   TRUE\n",
      "27     27   52   44000-99000  5.400000       India,In         1935  FALSE\n",
      "28     28   44   39000-88000  3.400000  Australia,Aus         1932  FALSE\n"
     ]
    }
   ],
   "source": [
    "df['Apply'] = df['Apply'].replace('-1',\"FALSE\")\n",
    "print(df)"
   ]
  },
  {
   "cell_type": "markdown",
   "id": "7a7566b0",
   "metadata": {},
   "source": [
    " "
   ]
  },
  {
   "cell_type": "markdown",
   "id": "2476a97c",
   "metadata": {},
   "source": [
    "# 8. Rating Range:-"
   ]
  },
  {
   "cell_type": "code",
   "execution_count": 41,
   "id": "8a40758b",
   "metadata": {},
   "outputs": [
    {
     "name": "stdout",
     "output_type": "stream",
     "text": [
      "    Index  Age        Salary  Rating       Location  Established  Apply\n",
      "0       0   44   44000-99000     5.4       India,In         1999   TRUE\n",
      "1       1   66   55000-66000     3.5    New York,Ny         2002   TRUE\n",
      "2       2   44   77000-89000     1.0    New York,Ny         1999  FALSE\n",
      "3       3   64   44000-99000     4.4       India In         1988  FALSE\n",
      "4       4   25   44000-99000     6.4  Australia,Aus         2002  FALSE\n",
      "5       5   44   77000-89000     1.4       India,In         1999   TRUE\n",
      "6       6   21   44000-99000     0.0    New York,Ny         1999  FALSE\n",
      "7       7   44   44000-99000     1.0  Australia,Aus         1999  FALSE\n",
      "8       8   35   44000-99000     5.4    New York,Ny         1999  FALSE\n",
      "9       9   22   44000-99000     7.7       India,In         1999   TRUE\n",
      "10     10   55   10000-49000     5.4       India,In         2008   TRUE\n",
      "11     11   44   10000-49000     6.7       India,In         2009  FALSE\n",
      "12     12   44   44000-99000     0.0       India,In         1999  FALSE\n",
      "13     13   25   44000-99000     1.0  Australia,Aus         2019   TRUE\n",
      "14     14   66   44000-99000     4.0  Australia,Aus         2020   TRUE\n",
      "15     15   44  88000-101000     3.0  Australia,Aus         1999  FALSE\n",
      "16     16   19   19000-40000     4.5       India,In         1984  FALSE\n",
      "17     17   44   44000-99000     5.3    New York,Ny         1943   TRUE\n",
      "18     18   35   44000-99000     6.7    New York,Ny         1954   TRUE\n",
      "19     19   32   44000-99000     3.3    New York,Ny         1955   TRUE\n",
      "20     20   44   44000-99000     5.7    New York,Ny         1944   TRUE\n",
      "21     21   35   44000-99000     5.0    New York,Ny         1946  FALSE\n",
      "22     22   19   55000-66000     7.8    New York,Ny         1988   TRUE\n",
      "23     23   44   44000-99000     2.4    New York,Ny         1999   TRUE\n",
      "24     24   13   44000-99000     1.0    New York,Ny         1987  FALSE\n",
      "25     25   55   44000-99000     0.0  Australia,Aus         1980   TRUE\n",
      "26     26   44   55000-66000     3.5       India,In         1934   TRUE\n",
      "27     27   52   44000-99000     5.4       India,In         1935  FALSE\n",
      "28     28   44   39000-88000     3.4  Australia,Aus         1932  FALSE\n"
     ]
    }
   ],
   "source": [
    "df['Rating'] = df.Rating.round(decimals = 1).abs()\n",
    "print(df)"
   ]
  },
  {
   "cell_type": "markdown",
   "id": "fe540941",
   "metadata": {},
   "source": [
    " "
   ]
  },
  {
   "cell_type": "markdown",
   "id": "3a2e0f00",
   "metadata": {},
   "source": [
    "# 9. Age Distribution:-"
   ]
  },
  {
   "cell_type": "code",
   "execution_count": 42,
   "id": "b3a2f58d",
   "metadata": {},
   "outputs": [
    {
     "data": {
      "text/plain": [
       "0     44\n",
       "1     66\n",
       "2     44\n",
       "3     64\n",
       "4     25\n",
       "5     44\n",
       "6     21\n",
       "7     44\n",
       "8     35\n",
       "9     22\n",
       "10    55\n",
       "11    44\n",
       "12    44\n",
       "13    25\n",
       "14    66\n",
       "15    44\n",
       "16    19\n",
       "17    44\n",
       "18    35\n",
       "19    32\n",
       "20    44\n",
       "21    35\n",
       "22    19\n",
       "23    44\n",
       "24    13\n",
       "25    55\n",
       "26    44\n",
       "27    52\n",
       "28    44\n",
       "Name: Age, dtype: int32"
      ]
     },
     "execution_count": 42,
     "metadata": {},
     "output_type": "execute_result"
    }
   ],
   "source": [
    "df.Age"
   ]
  },
  {
   "cell_type": "markdown",
   "id": "a46da33b",
   "metadata": {},
   "source": [
    "There are no unusual entries in the Age Column."
   ]
  },
  {
   "cell_type": "markdown",
   "id": "e8a7a4e5",
   "metadata": {},
   "source": [
    " "
   ]
  },
  {
   "cell_type": "markdown",
   "id": "744e32b5",
   "metadata": {},
   "source": [
    "# 10. Handling Special Characters:-"
   ]
  },
  {
   "cell_type": "code",
   "execution_count": 43,
   "id": "151d00d1",
   "metadata": {},
   "outputs": [
    {
     "name": "stdout",
     "output_type": "stream",
     "text": [
      "    Index  Age        Salary  Rating       Location  Established  Apply\n",
      "0       0   44   44000-99000     5.4       India,In         1999   TRUE\n",
      "1       1   66   55000-66000     3.5    New York,Ny         2002   TRUE\n",
      "2       2   44   77000-89000     1.0    New York,Ny         1999  FALSE\n",
      "3       3   64   44000-99000     4.4       India In         1988  FALSE\n",
      "4       4   25   44000-99000     6.4  Australia,Aus         2002  FALSE\n",
      "5       5   44   77000-89000     1.4       India,In         1999   TRUE\n",
      "6       6   21   44000-99000     0.0    New York,Ny         1999  FALSE\n",
      "7       7   44   44000-99000     1.0  Australia,Aus         1999  FALSE\n",
      "8       8   35   44000-99000     5.4    New York,Ny         1999  FALSE\n",
      "9       9   22   44000-99000     7.7       India,In         1999   TRUE\n",
      "10     10   55   10000-49000     5.4       India,In         2008   TRUE\n",
      "11     11   44   10000-49000     6.7       India,In         2009  FALSE\n",
      "12     12   44   44000-99000     0.0       India,In         1999  FALSE\n",
      "13     13   25   44000-99000     1.0  Australia,Aus         2019   TRUE\n",
      "14     14   66   44000-99000     4.0  Australia,Aus         2020   TRUE\n",
      "15     15   44  88000-101000     3.0  Australia,Aus         1999  FALSE\n",
      "16     16   19   19000-40000     4.5       India,In         1984  FALSE\n",
      "17     17   44   44000-99000     5.3    New York,Ny         1943   TRUE\n",
      "18     18   35   44000-99000     6.7    New York,Ny         1954   TRUE\n",
      "19     19   32   44000-99000     3.3    New York,Ny         1955   TRUE\n",
      "20     20   44   44000-99000     5.7    New York,Ny         1944   TRUE\n",
      "21     21   35   44000-99000     5.0    New York,Ny         1946  FALSE\n",
      "22     22   19   55000-66000     7.8    New York,Ny         1988   TRUE\n",
      "23     23   44   44000-99000     2.4    New York,Ny         1999   TRUE\n",
      "24     24   13   44000-99000     1.0    New York,Ny         1987  FALSE\n",
      "25     25   55   44000-99000     0.0  Australia,Aus         1980   TRUE\n",
      "26     26   44   55000-66000     3.5       India,In         1934   TRUE\n",
      "27     27   52   44000-99000     5.4       India,In         1935  FALSE\n",
      "28     28   44   39000-88000     3.4  Australia,Aus         1932  FALSE\n"
     ]
    }
   ],
   "source": [
    "print(df)"
   ]
  },
  {
   "cell_type": "markdown",
   "id": "ca663c55",
   "metadata": {},
   "source": [
    " "
   ]
  },
  {
   "cell_type": "markdown",
   "id": "b8a51bce",
   "metadata": {},
   "source": [
    "There is no special character to handle."
   ]
  },
  {
   "cell_type": "markdown",
   "id": "86ba024b",
   "metadata": {},
   "source": [
    " "
   ]
  },
  {
   "cell_type": "markdown",
   "id": "40b1f03f",
   "metadata": {},
   "source": [
    "# 11. Data Integrity:-"
   ]
  },
  {
   "cell_type": "markdown",
   "id": "d186c95f",
   "metadata": {},
   "source": [
    "All data is formatted in a meaningful format, removing missing values and also replacing wrong values with correct values."
   ]
  },
  {
   "cell_type": "code",
   "execution_count": 44,
   "id": "27232608",
   "metadata": {},
   "outputs": [
    {
     "name": "stdout",
     "output_type": "stream",
     "text": [
      "    Index  Age        Salary  Rating       Location  Established  Apply\n",
      "0       0   44   44000-99000     5.4       India,In         1999   TRUE\n",
      "1       1   66   55000-66000     3.5    New York,Ny         2002   TRUE\n",
      "2       2   44   77000-89000     1.0    New York,Ny         1999  FALSE\n",
      "3       3   64   44000-99000     4.4       India In         1988  FALSE\n",
      "4       4   25   44000-99000     6.4  Australia,Aus         2002  FALSE\n",
      "5       5   44   77000-89000     1.4       India,In         1999   TRUE\n",
      "6       6   21   44000-99000     0.0    New York,Ny         1999  FALSE\n",
      "7       7   44   44000-99000     1.0  Australia,Aus         1999  FALSE\n",
      "8       8   35   44000-99000     5.4    New York,Ny         1999  FALSE\n",
      "9       9   22   44000-99000     7.7       India,In         1999   TRUE\n",
      "10     10   55   10000-49000     5.4       India,In         2008   TRUE\n",
      "11     11   44   10000-49000     6.7       India,In         2009  FALSE\n",
      "12     12   44   44000-99000     0.0       India,In         1999  FALSE\n",
      "13     13   25   44000-99000     1.0  Australia,Aus         2019   TRUE\n",
      "14     14   66   44000-99000     4.0  Australia,Aus         2020   TRUE\n",
      "15     15   44  88000-101000     3.0  Australia,Aus         1999  FALSE\n",
      "16     16   19   19000-40000     4.5       India,In         1984  FALSE\n",
      "17     17   44   44000-99000     5.3    New York,Ny         1943   TRUE\n",
      "18     18   35   44000-99000     6.7    New York,Ny         1954   TRUE\n",
      "19     19   32   44000-99000     3.3    New York,Ny         1955   TRUE\n",
      "20     20   44   44000-99000     5.7    New York,Ny         1944   TRUE\n",
      "21     21   35   44000-99000     5.0    New York,Ny         1946  FALSE\n",
      "22     22   19   55000-66000     7.8    New York,Ny         1988   TRUE\n",
      "23     23   44   44000-99000     2.4    New York,Ny         1999   TRUE\n",
      "24     24   13   44000-99000     1.0    New York,Ny         1987  FALSE\n",
      "25     25   55   44000-99000     0.0  Australia,Aus         1980   TRUE\n",
      "26     26   44   55000-66000     3.5       India,In         1934   TRUE\n",
      "27     27   52   44000-99000     5.4       India,In         1935  FALSE\n",
      "28     28   44   39000-88000     3.4  Australia,Aus         1932  FALSE\n"
     ]
    }
   ],
   "source": [
    "print(df)"
   ]
  },
  {
   "cell_type": "markdown",
   "id": "55284f55",
   "metadata": {},
   "source": [
    " "
   ]
  },
  {
   "cell_type": "markdown",
   "id": "462cbead",
   "metadata": {},
   "source": [
    "# 12. Easy Apply Transformation:- "
   ]
  },
  {
   "cell_type": "code",
   "execution_count": 53,
   "id": "e6ae4f0d",
   "metadata": {},
   "outputs": [
    {
     "data": {
      "text/plain": [
       "0      TRUE\n",
       "1      TRUE\n",
       "2     FALSE\n",
       "3     FALSE\n",
       "4     FALSE\n",
       "5      TRUE\n",
       "6     FALSE\n",
       "7     FALSE\n",
       "8     FALSE\n",
       "9      TRUE\n",
       "10     TRUE\n",
       "11    FALSE\n",
       "12    FALSE\n",
       "13     TRUE\n",
       "14     TRUE\n",
       "15    FALSE\n",
       "16    FALSE\n",
       "17     TRUE\n",
       "18     TRUE\n",
       "19     TRUE\n",
       "20     TRUE\n",
       "21    FALSE\n",
       "22     TRUE\n",
       "23     TRUE\n",
       "24    FALSE\n",
       "25     TRUE\n",
       "26     TRUE\n",
       "27    FALSE\n",
       "28    FALSE\n",
       "Name: Apply, dtype: object"
      ]
     },
     "execution_count": 53,
     "metadata": {},
     "output_type": "execute_result"
    }
   ],
   "source": [
    "df.Apply"
   ]
  },
  {
   "cell_type": "markdown",
   "id": "11ba602f",
   "metadata": {},
   "source": [
    "All the non-boolien values are transformed in usuable format."
   ]
  },
  {
   "cell_type": "markdown",
   "id": "8e2ec544",
   "metadata": {},
   "source": [
    " "
   ]
  },
  {
   "cell_type": "markdown",
   "id": "141a8227",
   "metadata": {},
   "source": [
    "# 13. Location Accuracy:-"
   ]
  },
  {
   "cell_type": "markdown",
   "id": "480e4796",
   "metadata": {},
   "source": [
    "There are no misspelled or ambiguous locations that require correction, if there was it has already been corrected."
   ]
  },
  {
   "cell_type": "code",
   "execution_count": 49,
   "id": "a11f4246",
   "metadata": {},
   "outputs": [
    {
     "data": {
      "text/plain": [
       "0          India,In\n",
       "1       New York,Ny\n",
       "2       New York,Ny\n",
       "3          India In\n",
       "4     Australia,Aus\n",
       "5          India,In\n",
       "6       New York,Ny\n",
       "7     Australia,Aus\n",
       "8       New York,Ny\n",
       "9          India,In\n",
       "10         India,In\n",
       "11         India,In\n",
       "12         India,In\n",
       "13    Australia,Aus\n",
       "14    Australia,Aus\n",
       "15    Australia,Aus\n",
       "16         India,In\n",
       "17      New York,Ny\n",
       "18      New York,Ny\n",
       "19      New York,Ny\n",
       "20      New York,Ny\n",
       "21      New York,Ny\n",
       "22      New York,Ny\n",
       "23      New York,Ny\n",
       "24      New York,Ny\n",
       "25    Australia,Aus\n",
       "26         India,In\n",
       "27         India,In\n",
       "28    Australia,Aus\n",
       "Name: Location, dtype: object"
      ]
     },
     "execution_count": 49,
     "metadata": {},
     "output_type": "execute_result"
    }
   ],
   "source": [
    "df.Location"
   ]
  },
  {
   "cell_type": "markdown",
   "id": "dd1e88c5",
   "metadata": {},
   "source": [
    " "
   ]
  },
  {
   "cell_type": "markdown",
   "id": "f3f920dc",
   "metadata": {},
   "source": [
    "# 14. Handling Categorical Data:-"
   ]
  },
  {
   "cell_type": "markdown",
   "id": "b99ae55d",
   "metadata": {},
   "source": [
    "Columns(For eg. Established, Easy Apply) that have ambiguity in their values are handled with a corrected format for better analysis."
   ]
  },
  {
   "cell_type": "code",
   "execution_count": 50,
   "id": "8c24f953",
   "metadata": {},
   "outputs": [
    {
     "data": {
      "text/html": [
       "<div>\n",
       "<style scoped>\n",
       "    .dataframe tbody tr th:only-of-type {\n",
       "        vertical-align: middle;\n",
       "    }\n",
       "\n",
       "    .dataframe tbody tr th {\n",
       "        vertical-align: top;\n",
       "    }\n",
       "\n",
       "    .dataframe thead th {\n",
       "        text-align: right;\n",
       "    }\n",
       "</style>\n",
       "<table border=\"1\" class=\"dataframe\">\n",
       "  <thead>\n",
       "    <tr style=\"text-align: right;\">\n",
       "      <th></th>\n",
       "      <th>Index</th>\n",
       "      <th>Age</th>\n",
       "      <th>Salary</th>\n",
       "      <th>Rating</th>\n",
       "      <th>Location</th>\n",
       "      <th>Established</th>\n",
       "      <th>Apply</th>\n",
       "    </tr>\n",
       "  </thead>\n",
       "  <tbody>\n",
       "    <tr>\n",
       "      <th>0</th>\n",
       "      <td>0</td>\n",
       "      <td>44</td>\n",
       "      <td>44000-99000</td>\n",
       "      <td>5.4</td>\n",
       "      <td>India,In</td>\n",
       "      <td>1999</td>\n",
       "      <td>TRUE</td>\n",
       "    </tr>\n",
       "    <tr>\n",
       "      <th>1</th>\n",
       "      <td>1</td>\n",
       "      <td>66</td>\n",
       "      <td>55000-66000</td>\n",
       "      <td>3.5</td>\n",
       "      <td>New York,Ny</td>\n",
       "      <td>2002</td>\n",
       "      <td>TRUE</td>\n",
       "    </tr>\n",
       "    <tr>\n",
       "      <th>2</th>\n",
       "      <td>2</td>\n",
       "      <td>44</td>\n",
       "      <td>77000-89000</td>\n",
       "      <td>1.0</td>\n",
       "      <td>New York,Ny</td>\n",
       "      <td>1999</td>\n",
       "      <td>FALSE</td>\n",
       "    </tr>\n",
       "    <tr>\n",
       "      <th>3</th>\n",
       "      <td>3</td>\n",
       "      <td>64</td>\n",
       "      <td>44000-99000</td>\n",
       "      <td>4.4</td>\n",
       "      <td>India In</td>\n",
       "      <td>1988</td>\n",
       "      <td>FALSE</td>\n",
       "    </tr>\n",
       "    <tr>\n",
       "      <th>4</th>\n",
       "      <td>4</td>\n",
       "      <td>25</td>\n",
       "      <td>44000-99000</td>\n",
       "      <td>6.4</td>\n",
       "      <td>Australia,Aus</td>\n",
       "      <td>2002</td>\n",
       "      <td>FALSE</td>\n",
       "    </tr>\n",
       "    <tr>\n",
       "      <th>5</th>\n",
       "      <td>5</td>\n",
       "      <td>44</td>\n",
       "      <td>77000-89000</td>\n",
       "      <td>1.4</td>\n",
       "      <td>India,In</td>\n",
       "      <td>1999</td>\n",
       "      <td>TRUE</td>\n",
       "    </tr>\n",
       "    <tr>\n",
       "      <th>6</th>\n",
       "      <td>6</td>\n",
       "      <td>21</td>\n",
       "      <td>44000-99000</td>\n",
       "      <td>0.0</td>\n",
       "      <td>New York,Ny</td>\n",
       "      <td>1999</td>\n",
       "      <td>FALSE</td>\n",
       "    </tr>\n",
       "    <tr>\n",
       "      <th>7</th>\n",
       "      <td>7</td>\n",
       "      <td>44</td>\n",
       "      <td>44000-99000</td>\n",
       "      <td>1.0</td>\n",
       "      <td>Australia,Aus</td>\n",
       "      <td>1999</td>\n",
       "      <td>FALSE</td>\n",
       "    </tr>\n",
       "    <tr>\n",
       "      <th>8</th>\n",
       "      <td>8</td>\n",
       "      <td>35</td>\n",
       "      <td>44000-99000</td>\n",
       "      <td>5.4</td>\n",
       "      <td>New York,Ny</td>\n",
       "      <td>1999</td>\n",
       "      <td>FALSE</td>\n",
       "    </tr>\n",
       "    <tr>\n",
       "      <th>9</th>\n",
       "      <td>9</td>\n",
       "      <td>22</td>\n",
       "      <td>44000-99000</td>\n",
       "      <td>7.7</td>\n",
       "      <td>India,In</td>\n",
       "      <td>1999</td>\n",
       "      <td>TRUE</td>\n",
       "    </tr>\n",
       "    <tr>\n",
       "      <th>10</th>\n",
       "      <td>10</td>\n",
       "      <td>55</td>\n",
       "      <td>10000-49000</td>\n",
       "      <td>5.4</td>\n",
       "      <td>India,In</td>\n",
       "      <td>2008</td>\n",
       "      <td>TRUE</td>\n",
       "    </tr>\n",
       "    <tr>\n",
       "      <th>11</th>\n",
       "      <td>11</td>\n",
       "      <td>44</td>\n",
       "      <td>10000-49000</td>\n",
       "      <td>6.7</td>\n",
       "      <td>India,In</td>\n",
       "      <td>2009</td>\n",
       "      <td>FALSE</td>\n",
       "    </tr>\n",
       "    <tr>\n",
       "      <th>12</th>\n",
       "      <td>12</td>\n",
       "      <td>44</td>\n",
       "      <td>44000-99000</td>\n",
       "      <td>0.0</td>\n",
       "      <td>India,In</td>\n",
       "      <td>1999</td>\n",
       "      <td>FALSE</td>\n",
       "    </tr>\n",
       "    <tr>\n",
       "      <th>13</th>\n",
       "      <td>13</td>\n",
       "      <td>25</td>\n",
       "      <td>44000-99000</td>\n",
       "      <td>1.0</td>\n",
       "      <td>Australia,Aus</td>\n",
       "      <td>2019</td>\n",
       "      <td>TRUE</td>\n",
       "    </tr>\n",
       "    <tr>\n",
       "      <th>14</th>\n",
       "      <td>14</td>\n",
       "      <td>66</td>\n",
       "      <td>44000-99000</td>\n",
       "      <td>4.0</td>\n",
       "      <td>Australia,Aus</td>\n",
       "      <td>2020</td>\n",
       "      <td>TRUE</td>\n",
       "    </tr>\n",
       "    <tr>\n",
       "      <th>15</th>\n",
       "      <td>15</td>\n",
       "      <td>44</td>\n",
       "      <td>88000-101000</td>\n",
       "      <td>3.0</td>\n",
       "      <td>Australia,Aus</td>\n",
       "      <td>1999</td>\n",
       "      <td>FALSE</td>\n",
       "    </tr>\n",
       "    <tr>\n",
       "      <th>16</th>\n",
       "      <td>16</td>\n",
       "      <td>19</td>\n",
       "      <td>19000-40000</td>\n",
       "      <td>4.5</td>\n",
       "      <td>India,In</td>\n",
       "      <td>1984</td>\n",
       "      <td>FALSE</td>\n",
       "    </tr>\n",
       "    <tr>\n",
       "      <th>17</th>\n",
       "      <td>17</td>\n",
       "      <td>44</td>\n",
       "      <td>44000-99000</td>\n",
       "      <td>5.3</td>\n",
       "      <td>New York,Ny</td>\n",
       "      <td>1943</td>\n",
       "      <td>TRUE</td>\n",
       "    </tr>\n",
       "    <tr>\n",
       "      <th>18</th>\n",
       "      <td>18</td>\n",
       "      <td>35</td>\n",
       "      <td>44000-99000</td>\n",
       "      <td>6.7</td>\n",
       "      <td>New York,Ny</td>\n",
       "      <td>1954</td>\n",
       "      <td>TRUE</td>\n",
       "    </tr>\n",
       "    <tr>\n",
       "      <th>19</th>\n",
       "      <td>19</td>\n",
       "      <td>32</td>\n",
       "      <td>44000-99000</td>\n",
       "      <td>3.3</td>\n",
       "      <td>New York,Ny</td>\n",
       "      <td>1955</td>\n",
       "      <td>TRUE</td>\n",
       "    </tr>\n",
       "    <tr>\n",
       "      <th>20</th>\n",
       "      <td>20</td>\n",
       "      <td>44</td>\n",
       "      <td>44000-99000</td>\n",
       "      <td>5.7</td>\n",
       "      <td>New York,Ny</td>\n",
       "      <td>1944</td>\n",
       "      <td>TRUE</td>\n",
       "    </tr>\n",
       "    <tr>\n",
       "      <th>21</th>\n",
       "      <td>21</td>\n",
       "      <td>35</td>\n",
       "      <td>44000-99000</td>\n",
       "      <td>5.0</td>\n",
       "      <td>New York,Ny</td>\n",
       "      <td>1946</td>\n",
       "      <td>FALSE</td>\n",
       "    </tr>\n",
       "    <tr>\n",
       "      <th>22</th>\n",
       "      <td>22</td>\n",
       "      <td>19</td>\n",
       "      <td>55000-66000</td>\n",
       "      <td>7.8</td>\n",
       "      <td>New York,Ny</td>\n",
       "      <td>1988</td>\n",
       "      <td>TRUE</td>\n",
       "    </tr>\n",
       "    <tr>\n",
       "      <th>23</th>\n",
       "      <td>23</td>\n",
       "      <td>44</td>\n",
       "      <td>44000-99000</td>\n",
       "      <td>2.4</td>\n",
       "      <td>New York,Ny</td>\n",
       "      <td>1999</td>\n",
       "      <td>TRUE</td>\n",
       "    </tr>\n",
       "    <tr>\n",
       "      <th>24</th>\n",
       "      <td>24</td>\n",
       "      <td>13</td>\n",
       "      <td>44000-99000</td>\n",
       "      <td>1.0</td>\n",
       "      <td>New York,Ny</td>\n",
       "      <td>1987</td>\n",
       "      <td>FALSE</td>\n",
       "    </tr>\n",
       "    <tr>\n",
       "      <th>25</th>\n",
       "      <td>25</td>\n",
       "      <td>55</td>\n",
       "      <td>44000-99000</td>\n",
       "      <td>0.0</td>\n",
       "      <td>Australia,Aus</td>\n",
       "      <td>1980</td>\n",
       "      <td>TRUE</td>\n",
       "    </tr>\n",
       "    <tr>\n",
       "      <th>26</th>\n",
       "      <td>26</td>\n",
       "      <td>44</td>\n",
       "      <td>55000-66000</td>\n",
       "      <td>3.5</td>\n",
       "      <td>India,In</td>\n",
       "      <td>1934</td>\n",
       "      <td>TRUE</td>\n",
       "    </tr>\n",
       "    <tr>\n",
       "      <th>27</th>\n",
       "      <td>27</td>\n",
       "      <td>52</td>\n",
       "      <td>44000-99000</td>\n",
       "      <td>5.4</td>\n",
       "      <td>India,In</td>\n",
       "      <td>1935</td>\n",
       "      <td>FALSE</td>\n",
       "    </tr>\n",
       "    <tr>\n",
       "      <th>28</th>\n",
       "      <td>28</td>\n",
       "      <td>44</td>\n",
       "      <td>39000-88000</td>\n",
       "      <td>3.4</td>\n",
       "      <td>Australia,Aus</td>\n",
       "      <td>1932</td>\n",
       "      <td>FALSE</td>\n",
       "    </tr>\n",
       "  </tbody>\n",
       "</table>\n",
       "</div>"
      ],
      "text/plain": [
       "    Index  Age        Salary  Rating       Location  Established  Apply\n",
       "0       0   44   44000-99000     5.4       India,In         1999   TRUE\n",
       "1       1   66   55000-66000     3.5    New York,Ny         2002   TRUE\n",
       "2       2   44   77000-89000     1.0    New York,Ny         1999  FALSE\n",
       "3       3   64   44000-99000     4.4       India In         1988  FALSE\n",
       "4       4   25   44000-99000     6.4  Australia,Aus         2002  FALSE\n",
       "5       5   44   77000-89000     1.4       India,In         1999   TRUE\n",
       "6       6   21   44000-99000     0.0    New York,Ny         1999  FALSE\n",
       "7       7   44   44000-99000     1.0  Australia,Aus         1999  FALSE\n",
       "8       8   35   44000-99000     5.4    New York,Ny         1999  FALSE\n",
       "9       9   22   44000-99000     7.7       India,In         1999   TRUE\n",
       "10     10   55   10000-49000     5.4       India,In         2008   TRUE\n",
       "11     11   44   10000-49000     6.7       India,In         2009  FALSE\n",
       "12     12   44   44000-99000     0.0       India,In         1999  FALSE\n",
       "13     13   25   44000-99000     1.0  Australia,Aus         2019   TRUE\n",
       "14     14   66   44000-99000     4.0  Australia,Aus         2020   TRUE\n",
       "15     15   44  88000-101000     3.0  Australia,Aus         1999  FALSE\n",
       "16     16   19   19000-40000     4.5       India,In         1984  FALSE\n",
       "17     17   44   44000-99000     5.3    New York,Ny         1943   TRUE\n",
       "18     18   35   44000-99000     6.7    New York,Ny         1954   TRUE\n",
       "19     19   32   44000-99000     3.3    New York,Ny         1955   TRUE\n",
       "20     20   44   44000-99000     5.7    New York,Ny         1944   TRUE\n",
       "21     21   35   44000-99000     5.0    New York,Ny         1946  FALSE\n",
       "22     22   19   55000-66000     7.8    New York,Ny         1988   TRUE\n",
       "23     23   44   44000-99000     2.4    New York,Ny         1999   TRUE\n",
       "24     24   13   44000-99000     1.0    New York,Ny         1987  FALSE\n",
       "25     25   55   44000-99000     0.0  Australia,Aus         1980   TRUE\n",
       "26     26   44   55000-66000     3.5       India,In         1934   TRUE\n",
       "27     27   52   44000-99000     5.4       India,In         1935  FALSE\n",
       "28     28   44   39000-88000     3.4  Australia,Aus         1932  FALSE"
      ]
     },
     "execution_count": 50,
     "metadata": {},
     "output_type": "execute_result"
    }
   ],
   "source": [
    "df"
   ]
  },
  {
   "cell_type": "markdown",
   "id": "71744b6a",
   "metadata": {},
   "source": [
    " "
   ]
  },
  {
   "cell_type": "markdown",
   "id": "542517ab",
   "metadata": {},
   "source": [
    "# 15. Consistent Rating Scale:-"
   ]
  },
  {
   "cell_type": "code",
   "execution_count": 52,
   "id": "f4da45e8",
   "metadata": {},
   "outputs": [
    {
     "data": {
      "text/plain": [
       "0     5.4\n",
       "1     3.5\n",
       "2     1.0\n",
       "3     4.4\n",
       "4     6.4\n",
       "5     1.4\n",
       "6     0.0\n",
       "7     1.0\n",
       "8     5.4\n",
       "9     7.7\n",
       "10    5.4\n",
       "11    6.7\n",
       "12    0.0\n",
       "13    1.0\n",
       "14    4.0\n",
       "15    3.0\n",
       "16    4.5\n",
       "17    5.3\n",
       "18    6.7\n",
       "19    3.3\n",
       "20    5.7\n",
       "21    5.0\n",
       "22    7.8\n",
       "23    2.4\n",
       "24    1.0\n",
       "25    0.0\n",
       "26    3.5\n",
       "27    5.4\n",
       "28    3.4\n",
       "Name: Rating, dtype: float64"
      ]
     },
     "execution_count": 52,
     "metadata": {},
     "output_type": "execute_result"
    }
   ],
   "source": [
    "df.Rating"
   ]
  },
  {
   "cell_type": "code",
   "execution_count": 5,
   "id": "0c1d78ae",
   "metadata": {},
   "outputs": [],
   "source": [
    "df.to_csv('Cleaned_Dataset_1.csv')"
   ]
  },
  {
   "cell_type": "code",
   "execution_count": null,
   "id": "b53fba39",
   "metadata": {},
   "outputs": [],
   "source": []
  }
 ],
 "metadata": {
  "kernelspec": {
   "display_name": "Python 3 (ipykernel)",
   "language": "python",
   "name": "python3"
  },
  "language_info": {
   "codemirror_mode": {
    "name": "ipython",
    "version": 3
   },
   "file_extension": ".py",
   "mimetype": "text/x-python",
   "name": "python",
   "nbconvert_exporter": "python",
   "pygments_lexer": "ipython3",
   "version": "3.10.9"
  }
 },
 "nbformat": 4,
 "nbformat_minor": 5
}
