{
 "cells": [
  {
   "cell_type": "code",
   "execution_count": 1,
   "id": "f572fd28",
   "metadata": {},
   "outputs": [],
   "source": [
    "# importing libraries\n",
    "import pandas as pd\n",
    "import sqlite3 as sql"
   ]
  },
  {
   "cell_type": "code",
   "execution_count": 2,
   "id": "10031e0f",
   "metadata": {},
   "outputs": [
    {
     "data": {
      "text/plain": [
       "<sqlite3.Connection at 0x1528c7aed40>"
      ]
     },
     "execution_count": 2,
     "metadata": {},
     "output_type": "execute_result"
    }
   ],
   "source": [
    "con = sql.connect('sql-murder-mystery.db')\n",
    "con"
   ]
  },
  {
   "cell_type": "code",
   "execution_count": 3,
   "id": "4ae4cb78",
   "metadata": {},
   "outputs": [
    {
     "data": {
      "text/html": [
       "<div>\n",
       "<style scoped>\n",
       "    .dataframe tbody tr th:only-of-type {\n",
       "        vertical-align: middle;\n",
       "    }\n",
       "\n",
       "    .dataframe tbody tr th {\n",
       "        vertical-align: top;\n",
       "    }\n",
       "\n",
       "    .dataframe thead th {\n",
       "        text-align: right;\n",
       "    }\n",
       "</style>\n",
       "<table border=\"1\" class=\"dataframe\">\n",
       "  <thead>\n",
       "    <tr style=\"text-align: right;\">\n",
       "      <th></th>\n",
       "      <th>date</th>\n",
       "      <th>type</th>\n",
       "      <th>description</th>\n",
       "      <th>city</th>\n",
       "    </tr>\n",
       "  </thead>\n",
       "  <tbody>\n",
       "    <tr>\n",
       "      <th>0</th>\n",
       "      <td>20170712</td>\n",
       "      <td>theft</td>\n",
       "      <td>A lone hunter stalks the night, firing arrows into the Darkness.\\n            There is no hiding, no escape. In the distance, the beast\\n            falters, tethered to the void. The killing blow comes without\\n            hesitation, without mercy.</td>\n",
       "      <td>SQL City</td>\n",
       "    </tr>\n",
       "    <tr>\n",
       "      <th>1</th>\n",
       "      <td>20170820</td>\n",
       "      <td>arson</td>\n",
       "      <td>Wield the Hammer of Sol with honor, Titan, it is a thing of\\n            legend, both past and future.</td>\n",
       "      <td>SQL City</td>\n",
       "    </tr>\n",
       "    <tr>\n",
       "      <th>2</th>\n",
       "      <td>20171110</td>\n",
       "      <td>robbery</td>\n",
       "      <td>The Gjallarhorn shoulder-mounted rocket system was forged from\\n            the armor of Guardians who fell at the Twilight Gap. Gifted\\n            to the survivors of that terrible battle, the Gjallarhorn\\n            is seen as a symbol of honor and survival.</td>\n",
       "      <td>SQL City</td>\n",
       "    </tr>\n",
       "    <tr>\n",
       "      <th>3</th>\n",
       "      <td>20180103</td>\n",
       "      <td>bribery</td>\n",
       "      <td>Apparently, Cayde thought it necessary to expose this extremely\\n            rare vegetable to a Hive summoning ritual.</td>\n",
       "      <td>SQL City</td>\n",
       "    </tr>\n",
       "    <tr>\n",
       "      <th>4</th>\n",
       "      <td>20180115</td>\n",
       "      <td>assault</td>\n",
       "      <td>Hamilton: Lee, do you yield? Burr: You shot him in the side! Yes he yields!</td>\n",
       "      <td>SQL City</td>\n",
       "    </tr>\n",
       "    <tr>\n",
       "      <th>5</th>\n",
       "      <td>20180115</td>\n",
       "      <td>assault</td>\n",
       "      <td>Report Not Found</td>\n",
       "      <td>SQL City</td>\n",
       "    </tr>\n",
       "    <tr>\n",
       "      <th>6</th>\n",
       "      <td>20180115</td>\n",
       "      <td>murder</td>\n",
       "      <td>Security footage shows that there were 2 witnesses. The first witness lives at the last house on \"Northwestern Dr\". The second witness, named Annabel, lives somewhere on \"Franklin Ave\".</td>\n",
       "      <td>SQL City</td>\n",
       "    </tr>\n",
       "    <tr>\n",
       "      <th>7</th>\n",
       "      <td>20180215</td>\n",
       "      <td>murder</td>\n",
       "      <td>REDACTED REDACTED REDACTED</td>\n",
       "      <td>SQL City</td>\n",
       "    </tr>\n",
       "    <tr>\n",
       "      <th>8</th>\n",
       "      <td>20180215</td>\n",
       "      <td>murder</td>\n",
       "      <td>Someone killed the guard! He took an arrow to the knee!</td>\n",
       "      <td>SQL City</td>\n",
       "    </tr>\n",
       "  </tbody>\n",
       "</table>\n",
       "</div>"
      ],
      "text/plain": [
       "       date     type  \\\n",
       "0  20170712    theft   \n",
       "1  20170820    arson   \n",
       "2  20171110  robbery   \n",
       "3  20180103  bribery   \n",
       "4  20180115  assault   \n",
       "5  20180115  assault   \n",
       "6  20180115   murder   \n",
       "7  20180215   murder   \n",
       "8  20180215   murder   \n",
       "\n",
       "                                                                                                                                                                                                                                                              description  \\\n",
       "0              A lone hunter stalks the night, firing arrows into the Darkness.\\n            There is no hiding, no escape. In the distance, the beast\\n            falters, tethered to the void. The killing blow comes without\\n            hesitation, without mercy.   \n",
       "1                                                                                                                                                                  Wield the Hammer of Sol with honor, Titan, it is a thing of\\n            legend, both past and future.   \n",
       "2  The Gjallarhorn shoulder-mounted rocket system was forged from\\n            the armor of Guardians who fell at the Twilight Gap. Gifted\\n            to the survivors of that terrible battle, the Gjallarhorn\\n            is seen as a symbol of honor and survival.   \n",
       "3                                                                                                                                                 Apparently, Cayde thought it necessary to expose this extremely\\n            rare vegetable to a Hive summoning ritual.   \n",
       "4                                                                                                                                                                                             Hamilton: Lee, do you yield? Burr: You shot him in the side! Yes he yields!   \n",
       "5                                                                                                                                                                                                                                                        Report Not Found   \n",
       "6                                                                               Security footage shows that there were 2 witnesses. The first witness lives at the last house on \"Northwestern Dr\". The second witness, named Annabel, lives somewhere on \"Franklin Ave\".   \n",
       "7                                                                                                                                                                                                                                              REDACTED REDACTED REDACTED   \n",
       "8                                                                                                                                                                                                                 Someone killed the guard! He took an arrow to the knee!   \n",
       "\n",
       "       city  \n",
       "0  SQL City  \n",
       "1  SQL City  \n",
       "2  SQL City  \n",
       "3  SQL City  \n",
       "4  SQL City  \n",
       "5  SQL City  \n",
       "6  SQL City  \n",
       "7  SQL City  \n",
       "8  SQL City  "
      ]
     },
     "execution_count": 3,
     "metadata": {},
     "output_type": "execute_result"
    }
   ],
   "source": [
    "#looking for data for the crime scene report.\n",
    "query_1 = '''\n",
    "select * from crime_scene_report\n",
    "where city = \"SQL City\" order by date;\n",
    "'''\n",
    "# setting the dataframe width to maximum\n",
    "pd.set_option('display.max_colwidth',None)\n",
    "# running the query\n",
    "pd.read_sql_query(query_1,con)"
   ]
  },
  {
   "cell_type": "markdown",
   "id": "2104f786",
   "metadata": {},
   "source": [
    " *Security footage shows that there were 2 witnesses. The first witness lives at the last house on \"Northwestern Dr\". The second witness, named Annabel, lives somewhere on \"Franklin Ave\".*\n",
    "\n",
    " Got our crime scene report, as per the report there are 2 witnesses."
   ]
  },
  {
   "cell_type": "code",
   "execution_count": 4,
   "id": "a9a99384",
   "metadata": {},
   "outputs": [
    {
     "data": {
      "text/html": [
       "<div>\n",
       "<style scoped>\n",
       "    .dataframe tbody tr th:only-of-type {\n",
       "        vertical-align: middle;\n",
       "    }\n",
       "\n",
       "    .dataframe tbody tr th {\n",
       "        vertical-align: top;\n",
       "    }\n",
       "\n",
       "    .dataframe thead th {\n",
       "        text-align: right;\n",
       "    }\n",
       "</style>\n",
       "<table border=\"1\" class=\"dataframe\">\n",
       "  <thead>\n",
       "    <tr style=\"text-align: right;\">\n",
       "      <th></th>\n",
       "      <th>id</th>\n",
       "      <th>name</th>\n",
       "      <th>license_id</th>\n",
       "      <th>address_number</th>\n",
       "      <th>address_street_name</th>\n",
       "      <th>ssn</th>\n",
       "    </tr>\n",
       "  </thead>\n",
       "  <tbody>\n",
       "    <tr>\n",
       "      <th>0</th>\n",
       "      <td>14887</td>\n",
       "      <td>Morty Schapiro</td>\n",
       "      <td>118009</td>\n",
       "      <td>4919</td>\n",
       "      <td>Northwestern Dr</td>\n",
       "      <td>111564949</td>\n",
       "    </tr>\n",
       "  </tbody>\n",
       "</table>\n",
       "</div>"
      ],
      "text/plain": [
       "      id            name  license_id  address_number address_street_name  \\\n",
       "0  14887  Morty Schapiro      118009            4919     Northwestern Dr   \n",
       "\n",
       "         ssn  \n",
       "0  111564949  "
      ]
     },
     "execution_count": 4,
     "metadata": {},
     "output_type": "execute_result"
    }
   ],
   "source": [
    "# checking personal details of both witnesses.\n",
    "# First Witness\n",
    "query_2 = '''\n",
    "select * from person where address_street_name = \"Northwestern Dr\"\n",
    "order by address_number desc;\n",
    "'''\n",
    "pd.read_sql_query(query_2,con)[:1]"
   ]
  },
  {
   "cell_type": "code",
   "execution_count": 5,
   "id": "d02326ef",
   "metadata": {},
   "outputs": [
    {
     "data": {
      "text/html": [
       "<div>\n",
       "<style scoped>\n",
       "    .dataframe tbody tr th:only-of-type {\n",
       "        vertical-align: middle;\n",
       "    }\n",
       "\n",
       "    .dataframe tbody tr th {\n",
       "        vertical-align: top;\n",
       "    }\n",
       "\n",
       "    .dataframe thead th {\n",
       "        text-align: right;\n",
       "    }\n",
       "</style>\n",
       "<table border=\"1\" class=\"dataframe\">\n",
       "  <thead>\n",
       "    <tr style=\"text-align: right;\">\n",
       "      <th></th>\n",
       "      <th>id</th>\n",
       "      <th>name</th>\n",
       "      <th>license_id</th>\n",
       "      <th>address_number</th>\n",
       "      <th>address_street_name</th>\n",
       "      <th>ssn</th>\n",
       "    </tr>\n",
       "  </thead>\n",
       "  <tbody>\n",
       "    <tr>\n",
       "      <th>0</th>\n",
       "      <td>16371</td>\n",
       "      <td>Annabel Miller</td>\n",
       "      <td>490173</td>\n",
       "      <td>103</td>\n",
       "      <td>Franklin Ave</td>\n",
       "      <td>318771143</td>\n",
       "    </tr>\n",
       "  </tbody>\n",
       "</table>\n",
       "</div>"
      ],
      "text/plain": [
       "      id            name  license_id  address_number address_street_name  \\\n",
       "0  16371  Annabel Miller      490173             103        Franklin Ave   \n",
       "\n",
       "         ssn  \n",
       "0  318771143  "
      ]
     },
     "execution_count": 5,
     "metadata": {},
     "output_type": "execute_result"
    }
   ],
   "source": [
    "# Second Witness\n",
    "query_3 = '''\n",
    "select * from person where name like \"%Annabel%\" and address_street_name = \"Franklin Ave\";\n",
    "'''\n",
    "pd.read_sql_query(query_3,con)"
   ]
  },
  {
   "cell_type": "code",
   "execution_count": 6,
   "id": "92ac485c",
   "metadata": {},
   "outputs": [
    {
     "data": {
      "text/html": [
       "<div>\n",
       "<style scoped>\n",
       "    .dataframe tbody tr th:only-of-type {\n",
       "        vertical-align: middle;\n",
       "    }\n",
       "\n",
       "    .dataframe tbody tr th {\n",
       "        vertical-align: top;\n",
       "    }\n",
       "\n",
       "    .dataframe thead th {\n",
       "        text-align: right;\n",
       "    }\n",
       "</style>\n",
       "<table border=\"1\" class=\"dataframe\">\n",
       "  <thead>\n",
       "    <tr style=\"text-align: right;\">\n",
       "      <th></th>\n",
       "      <th>person_id</th>\n",
       "      <th>transcript</th>\n",
       "    </tr>\n",
       "  </thead>\n",
       "  <tbody>\n",
       "    <tr>\n",
       "      <th>0</th>\n",
       "      <td>14887</td>\n",
       "      <td>I heard a gunshot and then saw a man run out. He had a \"Get Fit Now Gym\" bag. The membership number on the bag started with \"48Z\". Only gold members have those bags. The man got into a car with a plate that included \"H42W\".</td>\n",
       "    </tr>\n",
       "    <tr>\n",
       "      <th>1</th>\n",
       "      <td>16371</td>\n",
       "      <td>I saw the murder happen, and I recognized the killer from my gym when I was working out last week on January the 9th.</td>\n",
       "    </tr>\n",
       "  </tbody>\n",
       "</table>\n",
       "</div>"
      ],
      "text/plain": [
       "   person_id  \\\n",
       "0      14887   \n",
       "1      16371   \n",
       "\n",
       "                                                                                                                                                                                                                        transcript  \n",
       "0  I heard a gunshot and then saw a man run out. He had a \"Get Fit Now Gym\" bag. The membership number on the bag started with \"48Z\". Only gold members have those bags. The man got into a car with a plate that included \"H42W\".  \n",
       "1                                                                                                            I saw the murder happen, and I recognized the killer from my gym when I was working out last week on January the 9th.  "
      ]
     },
     "execution_count": 6,
     "metadata": {},
     "output_type": "execute_result"
    }
   ],
   "source": [
    "# view the interview of both the witnesses taken after the murder.\n",
    "query_4 = '''\n",
    "select * from interview where person_id = \"14887\" or person_id = \"16371\";\n",
    "'''\n",
    "pd.read_sql_query(query_4,con)"
   ]
  },
  {
   "cell_type": "markdown",
   "id": "4e54284b",
   "metadata": {},
   "source": [
    "So, there are 2 clues-\n",
    "\n",
    "* Killer is a man and he is a member of gym with the status of Gold Membership and having the membership number starting with \"48Z\" and left in a car with a number plate \"H42W\".\n",
    "* On 9th January he was working out in the gym."
   ]
  },
  {
   "cell_type": "code",
   "execution_count": 7,
   "id": "fe46167b",
   "metadata": {},
   "outputs": [
    {
     "data": {
      "text/html": [
       "<div>\n",
       "<style scoped>\n",
       "    .dataframe tbody tr th:only-of-type {\n",
       "        vertical-align: middle;\n",
       "    }\n",
       "\n",
       "    .dataframe tbody tr th {\n",
       "        vertical-align: top;\n",
       "    }\n",
       "\n",
       "    .dataframe thead th {\n",
       "        text-align: right;\n",
       "    }\n",
       "</style>\n",
       "<table border=\"1\" class=\"dataframe\">\n",
       "  <thead>\n",
       "    <tr style=\"text-align: right;\">\n",
       "      <th></th>\n",
       "      <th>membership_id</th>\n",
       "      <th>check_in_date</th>\n",
       "      <th>check_in_time</th>\n",
       "      <th>check_out_time</th>\n",
       "    </tr>\n",
       "  </thead>\n",
       "  <tbody>\n",
       "    <tr>\n",
       "      <th>0</th>\n",
       "      <td>48Z7A</td>\n",
       "      <td>20180109</td>\n",
       "      <td>1600</td>\n",
       "      <td>1730</td>\n",
       "    </tr>\n",
       "    <tr>\n",
       "      <th>1</th>\n",
       "      <td>48Z55</td>\n",
       "      <td>20180109</td>\n",
       "      <td>1530</td>\n",
       "      <td>1700</td>\n",
       "    </tr>\n",
       "  </tbody>\n",
       "</table>\n",
       "</div>"
      ],
      "text/plain": [
       "  membership_id  check_in_date  check_in_time  check_out_time\n",
       "0         48Z7A       20180109           1600            1730\n",
       "1         48Z55       20180109           1530            1700"
      ]
     },
     "execution_count": 7,
     "metadata": {},
     "output_type": "execute_result"
    }
   ],
   "source": [
    "# Checking the gym database with the above details.\n",
    "query_5 = '''\n",
    "select * from get_fit_now_check_in where membership_id like \"%48Z%\" and check_in_date = \"20180109\"\n",
    "order by check_in_date;\n",
    "'''\n",
    "pd.read_sql_query(query_5,con)"
   ]
  },
  {
   "cell_type": "markdown",
   "id": "e3955bd3",
   "metadata": {},
   "source": [
    "* Two members found and their membership id is (48Z7A & 48Z55)."
   ]
  },
  {
   "cell_type": "code",
   "execution_count": 8,
   "id": "853ae31c",
   "metadata": {},
   "outputs": [
    {
     "data": {
      "text/html": [
       "<div>\n",
       "<style scoped>\n",
       "    .dataframe tbody tr th:only-of-type {\n",
       "        vertical-align: middle;\n",
       "    }\n",
       "\n",
       "    .dataframe tbody tr th {\n",
       "        vertical-align: top;\n",
       "    }\n",
       "\n",
       "    .dataframe thead th {\n",
       "        text-align: right;\n",
       "    }\n",
       "</style>\n",
       "<table border=\"1\" class=\"dataframe\">\n",
       "  <thead>\n",
       "    <tr style=\"text-align: right;\">\n",
       "      <th></th>\n",
       "      <th>id</th>\n",
       "      <th>age</th>\n",
       "      <th>height</th>\n",
       "      <th>eye_color</th>\n",
       "      <th>hair_color</th>\n",
       "      <th>gender</th>\n",
       "      <th>plate_number</th>\n",
       "      <th>car_make</th>\n",
       "      <th>car_model</th>\n",
       "    </tr>\n",
       "  </thead>\n",
       "  <tbody>\n",
       "    <tr>\n",
       "      <th>0</th>\n",
       "      <td>183779</td>\n",
       "      <td>21</td>\n",
       "      <td>65</td>\n",
       "      <td>blue</td>\n",
       "      <td>blonde</td>\n",
       "      <td>female</td>\n",
       "      <td>H42W0X</td>\n",
       "      <td>Toyota</td>\n",
       "      <td>Prius</td>\n",
       "    </tr>\n",
       "    <tr>\n",
       "      <th>1</th>\n",
       "      <td>423327</td>\n",
       "      <td>30</td>\n",
       "      <td>70</td>\n",
       "      <td>brown</td>\n",
       "      <td>brown</td>\n",
       "      <td>male</td>\n",
       "      <td>0H42W2</td>\n",
       "      <td>Chevrolet</td>\n",
       "      <td>Spark LS</td>\n",
       "    </tr>\n",
       "    <tr>\n",
       "      <th>2</th>\n",
       "      <td>664760</td>\n",
       "      <td>21</td>\n",
       "      <td>71</td>\n",
       "      <td>black</td>\n",
       "      <td>black</td>\n",
       "      <td>male</td>\n",
       "      <td>4H42WR</td>\n",
       "      <td>Nissan</td>\n",
       "      <td>Altima</td>\n",
       "    </tr>\n",
       "  </tbody>\n",
       "</table>\n",
       "</div>"
      ],
      "text/plain": [
       "       id  age  height eye_color hair_color  gender plate_number   car_make  \\\n",
       "0  183779   21      65      blue     blonde  female       H42W0X     Toyota   \n",
       "1  423327   30      70     brown      brown    male       0H42W2  Chevrolet   \n",
       "2  664760   21      71     black      black    male       4H42WR     Nissan   \n",
       "\n",
       "  car_model  \n",
       "0     Prius  \n",
       "1  Spark LS  \n",
       "2    Altima  "
      ]
     },
     "execution_count": 8,
     "metadata": {},
     "output_type": "execute_result"
    }
   ],
   "source": [
    "# now check the car details\n",
    "query_6 = '''\n",
    "select * from drivers_license where plate_number like \"%H42W%\";\n",
    "'''\n",
    "pd.read_sql_query(query_6,con)"
   ]
  },
  {
   "cell_type": "markdown",
   "id": "10f43a53",
   "metadata": {},
   "source": [
    "* Two males and One female containing the number H42W."
   ]
  },
  {
   "cell_type": "code",
   "execution_count": 9,
   "id": "c81ea1e1",
   "metadata": {},
   "outputs": [
    {
     "data": {
      "text/html": [
       "<div>\n",
       "<style scoped>\n",
       "    .dataframe tbody tr th:only-of-type {\n",
       "        vertical-align: middle;\n",
       "    }\n",
       "\n",
       "    .dataframe tbody tr th {\n",
       "        vertical-align: top;\n",
       "    }\n",
       "\n",
       "    .dataframe thead th {\n",
       "        text-align: right;\n",
       "    }\n",
       "</style>\n",
       "<table border=\"1\" class=\"dataframe\">\n",
       "  <thead>\n",
       "    <tr style=\"text-align: right;\">\n",
       "      <th></th>\n",
       "      <th>id</th>\n",
       "      <th>name</th>\n",
       "      <th>license_id</th>\n",
       "      <th>address_number</th>\n",
       "      <th>address_street_name</th>\n",
       "      <th>ssn</th>\n",
       "    </tr>\n",
       "  </thead>\n",
       "  <tbody>\n",
       "    <tr>\n",
       "      <th>0</th>\n",
       "      <td>51739</td>\n",
       "      <td>Tushar Chandra</td>\n",
       "      <td>664760</td>\n",
       "      <td>312</td>\n",
       "      <td>Phi St</td>\n",
       "      <td>137882671</td>\n",
       "    </tr>\n",
       "    <tr>\n",
       "      <th>1</th>\n",
       "      <td>67318</td>\n",
       "      <td>Jeremy Bowers</td>\n",
       "      <td>423327</td>\n",
       "      <td>530</td>\n",
       "      <td>Washington Pl, Apt 3A</td>\n",
       "      <td>871539279</td>\n",
       "    </tr>\n",
       "  </tbody>\n",
       "</table>\n",
       "</div>"
      ],
      "text/plain": [
       "      id            name  license_id  address_number    address_street_name  \\\n",
       "0  51739  Tushar Chandra      664760             312                 Phi St   \n",
       "1  67318   Jeremy Bowers      423327             530  Washington Pl, Apt 3A   \n",
       "\n",
       "         ssn  \n",
       "0  137882671  \n",
       "1  871539279  "
      ]
     },
     "execution_count": 9,
     "metadata": {},
     "output_type": "execute_result"
    }
   ],
   "source": [
    "# Checking personal details of both males.\n",
    "query_7 = '''\n",
    "select * from person where license_id = \"423327\" or license_id = \"664760\";\n",
    "'''\n",
    "pd.read_sql_query(query_7,con)"
   ]
  },
  {
   "cell_type": "code",
   "execution_count": 11,
   "id": "436a42ab",
   "metadata": {},
   "outputs": [
    {
     "data": {
      "text/html": [
       "<div>\n",
       "<style scoped>\n",
       "    .dataframe tbody tr th:only-of-type {\n",
       "        vertical-align: middle;\n",
       "    }\n",
       "\n",
       "    .dataframe tbody tr th {\n",
       "        vertical-align: top;\n",
       "    }\n",
       "\n",
       "    .dataframe thead th {\n",
       "        text-align: right;\n",
       "    }\n",
       "</style>\n",
       "<table border=\"1\" class=\"dataframe\">\n",
       "  <thead>\n",
       "    <tr style=\"text-align: right;\">\n",
       "      <th></th>\n",
       "      <th>id</th>\n",
       "      <th>person_id</th>\n",
       "      <th>name</th>\n",
       "      <th>membership_start_date</th>\n",
       "      <th>membership_status</th>\n",
       "    </tr>\n",
       "  </thead>\n",
       "  <tbody>\n",
       "    <tr>\n",
       "      <th>0</th>\n",
       "      <td>48Z55</td>\n",
       "      <td>67318</td>\n",
       "      <td>Jeremy Bowers</td>\n",
       "      <td>20160101</td>\n",
       "      <td>gold</td>\n",
       "    </tr>\n",
       "  </tbody>\n",
       "</table>\n",
       "</div>"
      ],
      "text/plain": [
       "      id  person_id           name  membership_start_date membership_status\n",
       "0  48Z55      67318  Jeremy Bowers               20160101              gold"
      ]
     },
     "execution_count": 11,
     "metadata": {},
     "output_type": "execute_result"
    }
   ],
   "source": [
    "# check which of these two are a member of gym.\n",
    "query_8 = '''\n",
    "select * from get_fit_now_member where person_id = \"51739\" or person_id = \"67318\";\n",
    "'''\n",
    "pd.read_sql_query(query_8,con)"
   ]
  },
  {
   "cell_type": "markdown",
   "id": "e97d7990",
   "metadata": {},
   "source": [
    "**Finally, found the murderer - Jeremy Bowers** Both the membership id and status also matches as per the information we found earlier."
   ]
  },
  {
   "cell_type": "markdown",
   "id": "51d6a84c",
   "metadata": {},
   "source": [
    " "
   ]
  },
  {
   "cell_type": "markdown",
   "id": "cacfe6a9",
   "metadata": {},
   "source": [
    "_Now to confirm, visit the website and run the query:-_"
   ]
  },
  {
   "cell_type": "markdown",
   "id": "dcefa46d",
   "metadata": {},
   "source": [
    "INSERT INTO solution VALUES (1, 'Jeremy Bowers');\n",
    "\n",
    "SELECT value FROM solution;"
   ]
  },
  {
   "cell_type": "markdown",
   "id": "5c8ccbfb",
   "metadata": {},
   "source": [
    " "
   ]
  },
  {
   "cell_type": "markdown",
   "id": "4e59d969",
   "metadata": {},
   "source": [
    "**Result is :-**\n",
    "\n",
    "Congrats, you found the murderer! But wait, there's more... If you think you're up for a challenge, try querying the interview transcript of the murderer to find the real villain behind this crime. If you feel especially confident in your SQL skills, try to complete this final step with no more than 2 queries. Use this same INSERT statement with your new suspect to check your answer."
   ]
  },
  {
   "cell_type": "code",
   "execution_count": 12,
   "id": "f7e756dd",
   "metadata": {},
   "outputs": [
    {
     "data": {
      "text/html": [
       "<div>\n",
       "<style scoped>\n",
       "    .dataframe tbody tr th:only-of-type {\n",
       "        vertical-align: middle;\n",
       "    }\n",
       "\n",
       "    .dataframe tbody tr th {\n",
       "        vertical-align: top;\n",
       "    }\n",
       "\n",
       "    .dataframe thead th {\n",
       "        text-align: right;\n",
       "    }\n",
       "</style>\n",
       "<table border=\"1\" class=\"dataframe\">\n",
       "  <thead>\n",
       "    <tr style=\"text-align: right;\">\n",
       "      <th></th>\n",
       "      <th>person_id</th>\n",
       "      <th>transcript</th>\n",
       "    </tr>\n",
       "  </thead>\n",
       "  <tbody>\n",
       "    <tr>\n",
       "      <th>0</th>\n",
       "      <td>67318</td>\n",
       "      <td>I was hired by a woman with a lot of money. I don't know her name but I know she's around 5'5\" (65\") or 5'7\" (67\"). She has red hair and she drives a Tesla Model S. I know that she attended the SQL Symphony Concert 3 times in December 2017.\\n</td>\n",
       "    </tr>\n",
       "  </tbody>\n",
       "</table>\n",
       "</div>"
      ],
      "text/plain": [
       "   person_id  \\\n",
       "0      67318   \n",
       "\n",
       "                                                                                                                                                                                                                                           transcript  \n",
       "0  I was hired by a woman with a lot of money. I don't know her name but I know she's around 5'5\" (65\") or 5'7\" (67\"). She has red hair and she drives a Tesla Model S. I know that she attended the SQL Symphony Concert 3 times in December 2017.\\n  "
      ]
     },
     "execution_count": 12,
     "metadata": {},
     "output_type": "execute_result"
    }
   ],
   "source": [
    "# Theres more in this, reading the transcript of the murderer.\n",
    "query_9 = '''\n",
    "select * from interview where person_id = \"67318\";\n",
    "'''\n",
    "pd.read_sql_query(query_9,con)"
   ]
  },
  {
   "cell_type": "markdown",
   "id": "104910d8",
   "metadata": {},
   "source": [
    "_So the real villian is the woman with Tesla car and red hair. Using these clues find the real mastermind behind the murder._"
   ]
  },
  {
   "cell_type": "code",
   "execution_count": 13,
   "id": "34affc17",
   "metadata": {},
   "outputs": [
    {
     "data": {
      "text/html": [
       "<div>\n",
       "<style scoped>\n",
       "    .dataframe tbody tr th:only-of-type {\n",
       "        vertical-align: middle;\n",
       "    }\n",
       "\n",
       "    .dataframe tbody tr th {\n",
       "        vertical-align: top;\n",
       "    }\n",
       "\n",
       "    .dataframe thead th {\n",
       "        text-align: right;\n",
       "    }\n",
       "</style>\n",
       "<table border=\"1\" class=\"dataframe\">\n",
       "  <thead>\n",
       "    <tr style=\"text-align: right;\">\n",
       "      <th></th>\n",
       "      <th>id</th>\n",
       "      <th>age</th>\n",
       "      <th>height</th>\n",
       "      <th>eye_color</th>\n",
       "      <th>hair_color</th>\n",
       "      <th>gender</th>\n",
       "      <th>plate_number</th>\n",
       "      <th>car_make</th>\n",
       "      <th>car_model</th>\n",
       "    </tr>\n",
       "  </thead>\n",
       "  <tbody>\n",
       "    <tr>\n",
       "      <th>0</th>\n",
       "      <td>202298</td>\n",
       "      <td>68</td>\n",
       "      <td>66</td>\n",
       "      <td>green</td>\n",
       "      <td>red</td>\n",
       "      <td>female</td>\n",
       "      <td>500123</td>\n",
       "      <td>Tesla</td>\n",
       "      <td>Model S</td>\n",
       "    </tr>\n",
       "    <tr>\n",
       "      <th>1</th>\n",
       "      <td>291182</td>\n",
       "      <td>65</td>\n",
       "      <td>66</td>\n",
       "      <td>blue</td>\n",
       "      <td>red</td>\n",
       "      <td>female</td>\n",
       "      <td>08CM64</td>\n",
       "      <td>Tesla</td>\n",
       "      <td>Model S</td>\n",
       "    </tr>\n",
       "    <tr>\n",
       "      <th>2</th>\n",
       "      <td>918773</td>\n",
       "      <td>48</td>\n",
       "      <td>65</td>\n",
       "      <td>black</td>\n",
       "      <td>red</td>\n",
       "      <td>female</td>\n",
       "      <td>917UU3</td>\n",
       "      <td>Tesla</td>\n",
       "      <td>Model S</td>\n",
       "    </tr>\n",
       "  </tbody>\n",
       "</table>\n",
       "</div>"
      ],
      "text/plain": [
       "       id  age  height eye_color hair_color  gender plate_number car_make  \\\n",
       "0  202298   68      66     green        red  female       500123    Tesla   \n",
       "1  291182   65      66      blue        red  female       08CM64    Tesla   \n",
       "2  918773   48      65     black        red  female       917UU3    Tesla   \n",
       "\n",
       "  car_model  \n",
       "0   Model S  \n",
       "1   Model S  \n",
       "2   Model S  "
      ]
     },
     "execution_count": 13,
     "metadata": {},
     "output_type": "execute_result"
    }
   ],
   "source": [
    "query_10 = '''\n",
    "select * from drivers_license where car_make = \"Tesla\" and car_model = \"Model S\" \n",
    "and gender = \"female\" and hair_color = \"red\";\n",
    "'''\n",
    "pd.read_sql_query(query_10,con)"
   ]
  },
  {
   "cell_type": "markdown",
   "id": "dadb11ec",
   "metadata": {},
   "source": [
    "  "
   ]
  },
  {
   "cell_type": "markdown",
   "id": "869b0ee9",
   "metadata": {},
   "source": [
    " _There are three women with Tesla Model S and red hair color._"
   ]
  },
  {
   "cell_type": "code",
   "execution_count": 14,
   "id": "2a1ed966",
   "metadata": {},
   "outputs": [
    {
     "data": {
      "text/html": [
       "<div>\n",
       "<style scoped>\n",
       "    .dataframe tbody tr th:only-of-type {\n",
       "        vertical-align: middle;\n",
       "    }\n",
       "\n",
       "    .dataframe tbody tr th {\n",
       "        vertical-align: top;\n",
       "    }\n",
       "\n",
       "    .dataframe thead th {\n",
       "        text-align: right;\n",
       "    }\n",
       "</style>\n",
       "<table border=\"1\" class=\"dataframe\">\n",
       "  <thead>\n",
       "    <tr style=\"text-align: right;\">\n",
       "      <th></th>\n",
       "      <th>id</th>\n",
       "      <th>name</th>\n",
       "      <th>license_id</th>\n",
       "      <th>address_number</th>\n",
       "      <th>address_street_name</th>\n",
       "      <th>ssn</th>\n",
       "    </tr>\n",
       "  </thead>\n",
       "  <tbody>\n",
       "    <tr>\n",
       "      <th>0</th>\n",
       "      <td>78881</td>\n",
       "      <td>Red Korb</td>\n",
       "      <td>918773</td>\n",
       "      <td>107</td>\n",
       "      <td>Camerata Dr</td>\n",
       "      <td>961388910</td>\n",
       "    </tr>\n",
       "    <tr>\n",
       "      <th>1</th>\n",
       "      <td>90700</td>\n",
       "      <td>Regina George</td>\n",
       "      <td>291182</td>\n",
       "      <td>332</td>\n",
       "      <td>Maple Ave</td>\n",
       "      <td>337169072</td>\n",
       "    </tr>\n",
       "    <tr>\n",
       "      <th>2</th>\n",
       "      <td>99716</td>\n",
       "      <td>Miranda Priestly</td>\n",
       "      <td>202298</td>\n",
       "      <td>1883</td>\n",
       "      <td>Golden Ave</td>\n",
       "      <td>987756388</td>\n",
       "    </tr>\n",
       "  </tbody>\n",
       "</table>\n",
       "</div>"
      ],
      "text/plain": [
       "      id              name  license_id  address_number address_street_name  \\\n",
       "0  78881          Red Korb      918773             107         Camerata Dr   \n",
       "1  90700     Regina George      291182             332           Maple Ave   \n",
       "2  99716  Miranda Priestly      202298            1883          Golden Ave   \n",
       "\n",
       "         ssn  \n",
       "0  961388910  \n",
       "1  337169072  \n",
       "2  987756388  "
      ]
     },
     "execution_count": 14,
     "metadata": {},
     "output_type": "execute_result"
    }
   ],
   "source": [
    "# checking the personal detials of the three womens.\n",
    "query_11 = '''\n",
    "select * from person where license_id = \"202298\" or license_id = \"291182\" or license_id = \"918773\";\n",
    "'''\n",
    "pd.read_sql_query(query_11,con)"
   ]
  },
  {
   "cell_type": "code",
   "execution_count": 19,
   "id": "7381c2a2",
   "metadata": {},
   "outputs": [
    {
     "data": {
      "text/html": [
       "<div>\n",
       "<style scoped>\n",
       "    .dataframe tbody tr th:only-of-type {\n",
       "        vertical-align: middle;\n",
       "    }\n",
       "\n",
       "    .dataframe tbody tr th {\n",
       "        vertical-align: top;\n",
       "    }\n",
       "\n",
       "    .dataframe thead th {\n",
       "        text-align: right;\n",
       "    }\n",
       "</style>\n",
       "<table border=\"1\" class=\"dataframe\">\n",
       "  <thead>\n",
       "    <tr style=\"text-align: right;\">\n",
       "      <th></th>\n",
       "      <th>person_id</th>\n",
       "      <th>count(*)</th>\n",
       "      <th>event_name</th>\n",
       "    </tr>\n",
       "  </thead>\n",
       "  <tbody>\n",
       "    <tr>\n",
       "      <th>0</th>\n",
       "      <td>24556</td>\n",
       "      <td>3</td>\n",
       "      <td>SQL Symphony Concert</td>\n",
       "    </tr>\n",
       "    <tr>\n",
       "      <th>1</th>\n",
       "      <td>99716</td>\n",
       "      <td>3</td>\n",
       "      <td>SQL Symphony Concert</td>\n",
       "    </tr>\n",
       "  </tbody>\n",
       "</table>\n",
       "</div>"
      ],
      "text/plain": [
       "   person_id  count(*)            event_name\n",
       "0      24556         3  SQL Symphony Concert\n",
       "1      99716         3  SQL Symphony Concert"
      ]
     },
     "execution_count": 19,
     "metadata": {},
     "output_type": "execute_result"
    }
   ],
   "source": [
    "#checking the event SQL symphony concert\n",
    "query_12 = '''\n",
    "select person_id, count(*), event_name from facebook_event_checkin group by person_id having count(*) =3\n",
    "and event_name = \"SQL Symphony Concert\" and date like \"%201712%\";\n",
    "'''\n",
    "pd.read_sql_query(query_12, con)"
   ]
  },
  {
   "cell_type": "markdown",
   "id": "8111d030",
   "metadata": {},
   "source": [
    "**Finally, found the real mastermind of this whole mystery- Miranda Priestly**\n",
    "\n",
    "_Miranda Priestly matches all the conditions for the mastermind we found earlier_\n",
    "\n",
    "* _She has red hair and has Tesla Model S as well as she also attended the SQL Symphony Concert_"
   ]
  },
  {
   "cell_type": "markdown",
   "id": "06895a8c",
   "metadata": {},
   "source": [
    " "
   ]
  },
  {
   "cell_type": "markdown",
   "id": "92df2c74",
   "metadata": {},
   "source": [
    " Now, confirming it on the website by running the query:-"
   ]
  },
  {
   "cell_type": "markdown",
   "id": "eb9e7c8e",
   "metadata": {},
   "source": [
    "INSERT INTO solution VALUES (1, 'Miranda Priestly');\n",
    "\n",
    "SELECT value FROM solution;"
   ]
  },
  {
   "cell_type": "markdown",
   "id": "10ca99ab",
   "metadata": {},
   "source": [
    "**Result is :-**\n",
    "\n",
    "_Congrats, you found the brains behind the murder! Everyone in SQL City hails you as the greatest SQL detective of all time. Time to break out the champagne!_"
   ]
  },
  {
   "cell_type": "code",
   "execution_count": null,
   "id": "163b0a74",
   "metadata": {},
   "outputs": [],
   "source": []
  }
 ],
 "metadata": {
  "kernelspec": {
   "display_name": "Python 3 (ipykernel)",
   "language": "python",
   "name": "python3"
  },
  "language_info": {
   "codemirror_mode": {
    "name": "ipython",
    "version": 3
   },
   "file_extension": ".py",
   "mimetype": "text/x-python",
   "name": "python",
   "nbconvert_exporter": "python",
   "pygments_lexer": "ipython3",
   "version": "3.10.9"
  }
 },
 "nbformat": 4,
 "nbformat_minor": 5
}
